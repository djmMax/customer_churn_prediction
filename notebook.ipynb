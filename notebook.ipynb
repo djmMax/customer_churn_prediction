{
  "nbformat": 4,
  "nbformat_minor": 0,
  "metadata": {
    "kernelspec": {
      "display_name": "Python 3",
      "language": "python",
      "name": "python3"
    },
    "language_info": {
      "codemirror_mode": {
        "name": "ipython",
        "version": 3
      },
      "file_extension": ".py",
      "mimetype": "text/x-python",
      "name": "python",
      "nbconvert_exporter": "python",
      "pygments_lexer": "ipython3",
      "version": "3.7.3"
    },
    "colab": {
      "name": "nb_umoja_rw.ipynb",
      "provenance": [],
      "collapsed_sections": [
        "wxU3Pn4JfhwL",
        "O8Re5AvRfhwU",
        "CXJ-3KuYfhwa",
        "sDrLAAj8fhwo",
        "V1V_sI0qfhwu",
        "2KBMsgxWfhxG",
        "UTEaCLm7fhxI",
        "nopawOqlfhxW"
      ]
    }
  },
  "cells": [
    {
      "cell_type": "code",
      "metadata": {
        "id": "TRAnvad-fup9",
        "colab": {
          "base_uri": "https://localhost:8080/",
          "height": 34
        },
        "outputId": "e92df2d4-135e-448c-a4ac-857d278f8c46"
      },
      "source": [
        "from google.colab import drive\n",
        "drive.mount('/content/drive')"
      ],
      "execution_count": null,
      "outputs": [
        {
          "output_type": "stream",
          "text": [
            "Drive already mounted at /content/drive; to attempt to forcibly remount, call drive.mount(\"/content/drive\", force_remount=True).\n"
          ],
          "name": "stdout"
        }
      ]
    },
    {
      "cell_type": "markdown",
      "metadata": {
        "id": "tvaC3qtJfhvj"
      },
      "source": [
        "# UmojaHack Rwanda: Expresso Churn Prediction Challenge"
      ]
    },
    {
      "cell_type": "markdown",
      "metadata": {
        "id": "k6zD-7E8fhvk"
      },
      "source": [
        "When customers leave, this can be very costly for the company, thus firms are interested in predicting churn beforehand. Having that information in hand can help companies change their strategy to retain customers."
      ]
    },
    {
      "cell_type": "markdown",
      "metadata": {
        "id": "s4O1lvtgfhvk"
      },
      "source": [
        "In this starter notebook, we'll walk through the competition. We will show you how to load the data and do a quick exploratory analysis. Then, we will train a simple model, make some predictions, and then submit those predictions to the competition."
      ]
    },
    {
      "cell_type": "markdown",
      "metadata": {
        "id": "tR4hn6Vifhvl"
      },
      "source": [
        "The data we have describes 2.5 million [Expresso](https://www.expressotelecom.sn/) clients. Expresso is an African telecommunications services company that provides telecommunication services in five African markets: Mauritania, Senegal, Guinea, and Ghana. Expresso offers a wide range of products and services to meet the needs of customers.\n",
        "\n",
        "The objective of this hackathon is to develop a predictive model that determines the likelihood for a customer to churn - to stop purchasing airtime and data from Expresso. Let's dig in!"
      ]
    },
    {
      "cell_type": "markdown",
      "metadata": {
        "id": "3maM-mu7fhvl"
      },
      "source": [
        "## Table of Contents:\n",
        "&nbsp;&nbsp;1. [LOADING THE DATA](#1)\n",
        "   \n",
        "&nbsp;&nbsp;2. [EXPLORING THE DATA](#2)   \n",
        "\n",
        "&nbsp;&nbsp;3. [BUILDING SOME MODELS](#3)   \n",
        "\n",
        "&nbsp;&nbsp;4. [GENERATING THE PREDICTIONS FOR THE TEST SET](#4)"
      ]
    },
    {
      "cell_type": "markdown",
      "metadata": {
        "id": "1aL0VUmYfhvm"
      },
      "source": [
        "# LOADING THE DATA"
      ]
    },
    {
      "cell_type": "markdown",
      "metadata": {
        "id": "5MZK9U7yfhvm"
      },
      "source": [
        "On the [data description page](https://zindi.africa/hackathons/umojahack-rwanda-expresso-churn-prediction-challenge/data), we are provided with everything we need to get started:\n",
        "\n",
        "Train.csv: this is what you will use to train your model.\n",
        "\n",
        "Test.csv: this is what you will test your model on.\n",
        "\n",
        "SampleSubmission.csv: This file serves as an example for how to format your submission.\n",
        "\n",
        "Let's start by importing the libraries that we will need to load and explore the data."
      ]
    },
    {
      "cell_type": "code",
      "metadata": {
        "id": "tuV9uHbDfhvn"
      },
      "source": [
        "##importing packages\n",
        "\n",
        "import pandas as pd \n",
        "%matplotlib inline\n",
        "import matplotlib.pyplot as plt\n",
        "import matplotlib\n",
        "import seaborn as sns\n",
        "import numpy as np\n",
        "# import missingno as msno"
      ],
      "execution_count": null,
      "outputs": []
    },
    {
      "cell_type": "markdown",
      "metadata": {
        "id": "Csx03ax4fhvq"
      },
      "source": [
        "Next, we can load the datasets and begin taking a look."
      ]
    },
    {
      "cell_type": "code",
      "metadata": {
        "id": "h2B8Kebqfhvq",
        "colab": {
          "base_uri": "https://localhost:8080/",
          "height": 63
        },
        "outputId": "303fd6e6-3749-4571-9f65-f769a85f1f3b"
      },
      "source": [
        "!unzip -P  rhnxc '/content/drive/My Drive/data/UmojaHackUniversity.zip'\n",
        "\n",
        "#reading in the data\n",
        "train = pd.read_csv('UmojaHack/Train.csv')\n",
        "test = pd.read_csv('UmojaHack/Test.csv')\n",
        "submission_file = pd.read_csv('UmojaHack/SampleSubmission.csv')\n",
        "describtion = pd.read_csv('UmojaHack/VariableDefinitions.csv') "
      ],
      "execution_count": null,
      "outputs": [
        {
          "output_type": "stream",
          "text": [
            "Archive:  /content/drive/My Drive/data/UmojaHackUniversity.zip\n",
            "replace UmojaHack/Test.csv? [y]es, [n]o, [A]ll, [N]one, [r]ename: "
          ],
          "name": "stdout"
        }
      ]
    },
    {
      "cell_type": "code",
      "metadata": {
        "id": "L32wBqxafhvs"
      },
      "source": [
        "train.head()"
      ],
      "execution_count": null,
      "outputs": []
    },
    {
      "cell_type": "code",
      "metadata": {
        "id": "go7_c6ssfhvv"
      },
      "source": [
        "train.head(20)"
      ],
      "execution_count": null,
      "outputs": []
    },
    {
      "cell_type": "markdown",
      "metadata": {
        "id": "71cVdm3cfhvx"
      },
      "source": [
        "Each row is/was an expresso client. The columns are the different attributes of the customers. "
      ]
    },
    {
      "cell_type": "code",
      "metadata": {
        "scrolled": true,
        "id": "VjGeXBFbfhvy",
        "colab": {
          "base_uri": "https://localhost:8080/",
          "height": 459
        },
        "outputId": "a108a067-224c-492b-c40d-caa996834ac3"
      },
      "source": [
        "train.info()#quite the data"
      ],
      "execution_count": null,
      "outputs": [
        {
          "output_type": "stream",
          "text": [
            "<class 'pandas.core.frame.DataFrame'>\n",
            "RangeIndex: 2154048 entries, 0 to 2154047\n",
            "Data columns (total 19 columns):\n",
            " #   Column          Dtype  \n",
            "---  ------          -----  \n",
            " 0   user_id         object \n",
            " 1   REGION          object \n",
            " 2   TENURE          object \n",
            " 3   MONTANT         float64\n",
            " 4   FREQUENCE_RECH  float64\n",
            " 5   REVENUE         float64\n",
            " 6   ARPU_SEGMENT    float64\n",
            " 7   FREQUENCE       float64\n",
            " 8   DATA_VOLUME     float64\n",
            " 9   ON_NET          float64\n",
            " 10  ORANGE          float64\n",
            " 11  TIGO            float64\n",
            " 12  ZONE1           float64\n",
            " 13  ZONE2           float64\n",
            " 14  MRG             object \n",
            " 15  REGULARITY      int64  \n",
            " 16  TOP_PACK        object \n",
            " 17  FREQ_TOP_PACK   float64\n",
            " 18  CHURN           int64  \n",
            "dtypes: float64(12), int64(2), object(5)\n",
            "memory usage: 312.2+ MB\n"
          ],
          "name": "stdout"
        }
      ]
    },
    {
      "cell_type": "markdown",
      "metadata": {
        "id": "i2O0xJ1Bfhv0"
      },
      "source": [
        "\n",
        "\n",
        "\n",
        "There are more than 2M customers in the training set."
      ]
    },
    {
      "cell_type": "code",
      "metadata": {
        "id": "UTSqj6p1fhv1",
        "colab": {
          "base_uri": "https://localhost:8080/",
          "height": 309
        },
        "outputId": "a9a15bf2-b204-44a5-938f-2b2ab50f03a7"
      },
      "source": [
        "test.head()"
      ],
      "execution_count": null,
      "outputs": [
        {
          "output_type": "execute_result",
          "data": {
            "text/html": [
              "<div>\n",
              "<style scoped>\n",
              "    .dataframe tbody tr th:only-of-type {\n",
              "        vertical-align: middle;\n",
              "    }\n",
              "\n",
              "    .dataframe tbody tr th {\n",
              "        vertical-align: top;\n",
              "    }\n",
              "\n",
              "    .dataframe thead th {\n",
              "        text-align: right;\n",
              "    }\n",
              "</style>\n",
              "<table border=\"1\" class=\"dataframe\">\n",
              "  <thead>\n",
              "    <tr style=\"text-align: right;\">\n",
              "      <th></th>\n",
              "      <th>user_id</th>\n",
              "      <th>REGION</th>\n",
              "      <th>TENURE</th>\n",
              "      <th>MONTANT</th>\n",
              "      <th>FREQUENCE_RECH</th>\n",
              "      <th>REVENUE</th>\n",
              "      <th>ARPU_SEGMENT</th>\n",
              "      <th>FREQUENCE</th>\n",
              "      <th>DATA_VOLUME</th>\n",
              "      <th>ON_NET</th>\n",
              "      <th>ORANGE</th>\n",
              "      <th>TIGO</th>\n",
              "      <th>ZONE1</th>\n",
              "      <th>ZONE2</th>\n",
              "      <th>MRG</th>\n",
              "      <th>REGULARITY</th>\n",
              "      <th>TOP_PACK</th>\n",
              "      <th>FREQ_TOP_PACK</th>\n",
              "    </tr>\n",
              "  </thead>\n",
              "  <tbody>\n",
              "    <tr>\n",
              "      <th>0</th>\n",
              "      <td>00001dbe00e56fc4b1c1b65dda63de2a5ece55f9</td>\n",
              "      <td>THIES</td>\n",
              "      <td>K &gt; 24 month</td>\n",
              "      <td>5000.0</td>\n",
              "      <td>5.0</td>\n",
              "      <td>5000.0</td>\n",
              "      <td>1667.0</td>\n",
              "      <td>5.0</td>\n",
              "      <td>NaN</td>\n",
              "      <td>378.0</td>\n",
              "      <td>11.0</td>\n",
              "      <td>5.0</td>\n",
              "      <td>NaN</td>\n",
              "      <td>NaN</td>\n",
              "      <td>NO</td>\n",
              "      <td>42</td>\n",
              "      <td>On-net 1000F=10MilF;10d</td>\n",
              "      <td>5.0</td>\n",
              "    </tr>\n",
              "    <tr>\n",
              "      <th>1</th>\n",
              "      <td>000055d41c8a62052dd426592e8a4a3342bf565d</td>\n",
              "      <td>NaN</td>\n",
              "      <td>I 18-21 month</td>\n",
              "      <td>300.0</td>\n",
              "      <td>2.0</td>\n",
              "      <td>326.0</td>\n",
              "      <td>109.0</td>\n",
              "      <td>3.0</td>\n",
              "      <td>397.0</td>\n",
              "      <td>NaN</td>\n",
              "      <td>0.0</td>\n",
              "      <td>NaN</td>\n",
              "      <td>NaN</td>\n",
              "      <td>NaN</td>\n",
              "      <td>NO</td>\n",
              "      <td>41</td>\n",
              "      <td>Data: 100 F=40MB,24H</td>\n",
              "      <td>1.0</td>\n",
              "    </tr>\n",
              "    <tr>\n",
              "      <th>2</th>\n",
              "      <td>000081dd3245e6869a4a9c574c7050e7bb84c2c8</td>\n",
              "      <td>DAKAR</td>\n",
              "      <td>K &gt; 24 month</td>\n",
              "      <td>3300.0</td>\n",
              "      <td>25.0</td>\n",
              "      <td>3400.0</td>\n",
              "      <td>1133.0</td>\n",
              "      <td>26.0</td>\n",
              "      <td>7150.0</td>\n",
              "      <td>0.0</td>\n",
              "      <td>2.0</td>\n",
              "      <td>5.0</td>\n",
              "      <td>NaN</td>\n",
              "      <td>NaN</td>\n",
              "      <td>NO</td>\n",
              "      <td>57</td>\n",
              "      <td>Data: 100 F=40MB,24H</td>\n",
              "      <td>22.0</td>\n",
              "    </tr>\n",
              "    <tr>\n",
              "      <th>3</th>\n",
              "      <td>0000b76d2145d9445d9ff6b65c9ebc4196c89337</td>\n",
              "      <td>NaN</td>\n",
              "      <td>K &gt; 24 month</td>\n",
              "      <td>NaN</td>\n",
              "      <td>NaN</td>\n",
              "      <td>NaN</td>\n",
              "      <td>NaN</td>\n",
              "      <td>NaN</td>\n",
              "      <td>NaN</td>\n",
              "      <td>NaN</td>\n",
              "      <td>NaN</td>\n",
              "      <td>NaN</td>\n",
              "      <td>NaN</td>\n",
              "      <td>NaN</td>\n",
              "      <td>NO</td>\n",
              "      <td>9</td>\n",
              "      <td>NaN</td>\n",
              "      <td>NaN</td>\n",
              "    </tr>\n",
              "    <tr>\n",
              "      <th>4</th>\n",
              "      <td>0000bae5480628cf8fe51ad84bcb39772fc79224</td>\n",
              "      <td>NaN</td>\n",
              "      <td>K &gt; 24 month</td>\n",
              "      <td>NaN</td>\n",
              "      <td>NaN</td>\n",
              "      <td>NaN</td>\n",
              "      <td>NaN</td>\n",
              "      <td>NaN</td>\n",
              "      <td>NaN</td>\n",
              "      <td>NaN</td>\n",
              "      <td>NaN</td>\n",
              "      <td>NaN</td>\n",
              "      <td>NaN</td>\n",
              "      <td>NaN</td>\n",
              "      <td>NO</td>\n",
              "      <td>10</td>\n",
              "      <td>NaN</td>\n",
              "      <td>NaN</td>\n",
              "    </tr>\n",
              "  </tbody>\n",
              "</table>\n",
              "</div>"
            ],
            "text/plain": [
              "                                    user_id  ... FREQ_TOP_PACK\n",
              "0  00001dbe00e56fc4b1c1b65dda63de2a5ece55f9  ...           5.0\n",
              "1  000055d41c8a62052dd426592e8a4a3342bf565d  ...           1.0\n",
              "2  000081dd3245e6869a4a9c574c7050e7bb84c2c8  ...          22.0\n",
              "3  0000b76d2145d9445d9ff6b65c9ebc4196c89337  ...           NaN\n",
              "4  0000bae5480628cf8fe51ad84bcb39772fc79224  ...           NaN\n",
              "\n",
              "[5 rows x 18 columns]"
            ]
          },
          "metadata": {
            "tags": []
          },
          "execution_count": 15
        }
      ]
    },
    {
      "cell_type": "code",
      "metadata": {
        "id": "RXcEarZJfhv3",
        "colab": {
          "base_uri": "https://localhost:8080/",
          "height": 442
        },
        "outputId": "bfd28ca9-9fbd-4e37-ca01-464c52eae7d8"
      },
      "source": [
        "test.info()"
      ],
      "execution_count": null,
      "outputs": [
        {
          "output_type": "stream",
          "text": [
            "<class 'pandas.core.frame.DataFrame'>\n",
            "RangeIndex: 380127 entries, 0 to 380126\n",
            "Data columns (total 18 columns):\n",
            " #   Column          Non-Null Count   Dtype  \n",
            "---  ------          --------------   -----  \n",
            " 0   user_id         380127 non-null  object \n",
            " 1   REGION          230399 non-null  object \n",
            " 2   TENURE          380127 non-null  object \n",
            " 3   MONTANT         247072 non-null  float64\n",
            " 4   FREQUENCE_RECH  247072 non-null  float64\n",
            " 5   REVENUE         252754 non-null  float64\n",
            " 6   ARPU_SEGMENT    252754 non-null  float64\n",
            " 7   FREQUENCE       252754 non-null  float64\n",
            " 8   DATA_VOLUME     193087 non-null  float64\n",
            " 9   ON_NET          241613 non-null  float64\n",
            " 10  ORANGE          222897 non-null  float64\n",
            " 11  TIGO            153126 non-null  float64\n",
            " 12  ZONE1           29861 non-null   float64\n",
            " 13  ZONE2           24076 non-null   float64\n",
            " 14  MRG             380127 non-null  object \n",
            " 15  REGULARITY      380127 non-null  int64  \n",
            " 16  TOP_PACK        221348 non-null  object \n",
            " 17  FREQ_TOP_PACK   221348 non-null  float64\n",
            "dtypes: float64(12), int64(1), object(5)\n",
            "memory usage: 52.2+ MB\n"
          ],
          "name": "stdout"
        }
      ]
    },
    {
      "cell_type": "code",
      "metadata": {
        "id": "mWXrWlOPfhv5",
        "colab": {
          "base_uri": "https://localhost:8080/",
          "height": 483
        },
        "outputId": "00cbc0e3-d374-432e-bf67-bd31e0f560f7"
      },
      "source": [
        "total = train.isnull().sum().sort_values(ascending=False)\n",
        "percent = (train.isnull().sum()/train.isnull().count()).sort_values(ascending=False)\n",
        "missing_data = pd.concat([total, percent], axis=1, keys=['Total', 'Percent'])\n",
        "missing_data[missing_data.Total > 0]"
      ],
      "execution_count": null,
      "outputs": [
        {
          "output_type": "execute_result",
          "data": {
            "text/html": [
              "<div>\n",
              "<style scoped>\n",
              "    .dataframe tbody tr th:only-of-type {\n",
              "        vertical-align: middle;\n",
              "    }\n",
              "\n",
              "    .dataframe tbody tr th {\n",
              "        vertical-align: top;\n",
              "    }\n",
              "\n",
              "    .dataframe thead th {\n",
              "        text-align: right;\n",
              "    }\n",
              "</style>\n",
              "<table border=\"1\" class=\"dataframe\">\n",
              "  <thead>\n",
              "    <tr style=\"text-align: right;\">\n",
              "      <th></th>\n",
              "      <th>Total</th>\n",
              "      <th>Percent</th>\n",
              "    </tr>\n",
              "  </thead>\n",
              "  <tbody>\n",
              "    <tr>\n",
              "      <th>ZONE2</th>\n",
              "      <td>2017224</td>\n",
              "      <td>0.936481</td>\n",
              "    </tr>\n",
              "    <tr>\n",
              "      <th>ZONE1</th>\n",
              "      <td>1984327</td>\n",
              "      <td>0.921208</td>\n",
              "    </tr>\n",
              "    <tr>\n",
              "      <th>TIGO</th>\n",
              "      <td>1290016</td>\n",
              "      <td>0.598880</td>\n",
              "    </tr>\n",
              "    <tr>\n",
              "      <th>DATA_VOLUME</th>\n",
              "      <td>1060433</td>\n",
              "      <td>0.492298</td>\n",
              "    </tr>\n",
              "    <tr>\n",
              "      <th>TOP_PACK</th>\n",
              "      <td>902594</td>\n",
              "      <td>0.419022</td>\n",
              "    </tr>\n",
              "    <tr>\n",
              "      <th>FREQ_TOP_PACK</th>\n",
              "      <td>902594</td>\n",
              "      <td>0.419022</td>\n",
              "    </tr>\n",
              "    <tr>\n",
              "      <th>ORANGE</th>\n",
              "      <td>895248</td>\n",
              "      <td>0.415612</td>\n",
              "    </tr>\n",
              "    <tr>\n",
              "      <th>REGION</th>\n",
              "      <td>849299</td>\n",
              "      <td>0.394280</td>\n",
              "    </tr>\n",
              "    <tr>\n",
              "      <th>ON_NET</th>\n",
              "      <td>786675</td>\n",
              "      <td>0.365208</td>\n",
              "    </tr>\n",
              "    <tr>\n",
              "      <th>MONTANT</th>\n",
              "      <td>756739</td>\n",
              "      <td>0.351310</td>\n",
              "    </tr>\n",
              "    <tr>\n",
              "      <th>FREQUENCE_RECH</th>\n",
              "      <td>756739</td>\n",
              "      <td>0.351310</td>\n",
              "    </tr>\n",
              "    <tr>\n",
              "      <th>FREQUENCE</th>\n",
              "      <td>726048</td>\n",
              "      <td>0.337062</td>\n",
              "    </tr>\n",
              "    <tr>\n",
              "      <th>ARPU_SEGMENT</th>\n",
              "      <td>726048</td>\n",
              "      <td>0.337062</td>\n",
              "    </tr>\n",
              "    <tr>\n",
              "      <th>REVENUE</th>\n",
              "      <td>726048</td>\n",
              "      <td>0.337062</td>\n",
              "    </tr>\n",
              "  </tbody>\n",
              "</table>\n",
              "</div>"
            ],
            "text/plain": [
              "                  Total   Percent\n",
              "ZONE2           2017224  0.936481\n",
              "ZONE1           1984327  0.921208\n",
              "TIGO            1290016  0.598880\n",
              "DATA_VOLUME     1060433  0.492298\n",
              "TOP_PACK         902594  0.419022\n",
              "FREQ_TOP_PACK    902594  0.419022\n",
              "ORANGE           895248  0.415612\n",
              "REGION           849299  0.394280\n",
              "ON_NET           786675  0.365208\n",
              "MONTANT          756739  0.351310\n",
              "FREQUENCE_RECH   756739  0.351310\n",
              "FREQUENCE        726048  0.337062\n",
              "ARPU_SEGMENT     726048  0.337062\n",
              "REVENUE          726048  0.337062"
            ]
          },
          "metadata": {
            "tags": []
          },
          "execution_count": 17
        }
      ]
    },
    {
      "cell_type": "code",
      "metadata": {
        "id": "xH7NKlmdfhv7",
        "colab": {
          "base_uri": "https://localhost:8080/",
          "height": 483
        },
        "outputId": "4c992e06-1741-4774-cbe7-269e4c60f535"
      },
      "source": [
        "total = test.isnull().sum().sort_values(ascending=False)\n",
        "percent = (test.isnull().sum()/test.isnull().count()).sort_values(ascending=False)\n",
        "missing_data = pd.concat([total, percent], axis=1, keys=['Total', 'Percent'])\n",
        "missing_data[missing_data.Total > 0]"
      ],
      "execution_count": null,
      "outputs": [
        {
          "output_type": "execute_result",
          "data": {
            "text/html": [
              "<div>\n",
              "<style scoped>\n",
              "    .dataframe tbody tr th:only-of-type {\n",
              "        vertical-align: middle;\n",
              "    }\n",
              "\n",
              "    .dataframe tbody tr th {\n",
              "        vertical-align: top;\n",
              "    }\n",
              "\n",
              "    .dataframe thead th {\n",
              "        text-align: right;\n",
              "    }\n",
              "</style>\n",
              "<table border=\"1\" class=\"dataframe\">\n",
              "  <thead>\n",
              "    <tr style=\"text-align: right;\">\n",
              "      <th></th>\n",
              "      <th>Total</th>\n",
              "      <th>Percent</th>\n",
              "    </tr>\n",
              "  </thead>\n",
              "  <tbody>\n",
              "    <tr>\n",
              "      <th>ZONE2</th>\n",
              "      <td>356051</td>\n",
              "      <td>0.936663</td>\n",
              "    </tr>\n",
              "    <tr>\n",
              "      <th>ZONE1</th>\n",
              "      <td>350266</td>\n",
              "      <td>0.921445</td>\n",
              "    </tr>\n",
              "    <tr>\n",
              "      <th>TIGO</th>\n",
              "      <td>227001</td>\n",
              "      <td>0.597171</td>\n",
              "    </tr>\n",
              "    <tr>\n",
              "      <th>DATA_VOLUME</th>\n",
              "      <td>187040</td>\n",
              "      <td>0.492046</td>\n",
              "    </tr>\n",
              "    <tr>\n",
              "      <th>TOP_PACK</th>\n",
              "      <td>158779</td>\n",
              "      <td>0.417700</td>\n",
              "    </tr>\n",
              "    <tr>\n",
              "      <th>FREQ_TOP_PACK</th>\n",
              "      <td>158779</td>\n",
              "      <td>0.417700</td>\n",
              "    </tr>\n",
              "    <tr>\n",
              "      <th>ORANGE</th>\n",
              "      <td>157230</td>\n",
              "      <td>0.413625</td>\n",
              "    </tr>\n",
              "    <tr>\n",
              "      <th>REGION</th>\n",
              "      <td>149728</td>\n",
              "      <td>0.393889</td>\n",
              "    </tr>\n",
              "    <tr>\n",
              "      <th>ON_NET</th>\n",
              "      <td>138514</td>\n",
              "      <td>0.364389</td>\n",
              "    </tr>\n",
              "    <tr>\n",
              "      <th>FREQUENCE_RECH</th>\n",
              "      <td>133055</td>\n",
              "      <td>0.350028</td>\n",
              "    </tr>\n",
              "    <tr>\n",
              "      <th>MONTANT</th>\n",
              "      <td>133055</td>\n",
              "      <td>0.350028</td>\n",
              "    </tr>\n",
              "    <tr>\n",
              "      <th>FREQUENCE</th>\n",
              "      <td>127373</td>\n",
              "      <td>0.335080</td>\n",
              "    </tr>\n",
              "    <tr>\n",
              "      <th>ARPU_SEGMENT</th>\n",
              "      <td>127373</td>\n",
              "      <td>0.335080</td>\n",
              "    </tr>\n",
              "    <tr>\n",
              "      <th>REVENUE</th>\n",
              "      <td>127373</td>\n",
              "      <td>0.335080</td>\n",
              "    </tr>\n",
              "  </tbody>\n",
              "</table>\n",
              "</div>"
            ],
            "text/plain": [
              "                 Total   Percent\n",
              "ZONE2           356051  0.936663\n",
              "ZONE1           350266  0.921445\n",
              "TIGO            227001  0.597171\n",
              "DATA_VOLUME     187040  0.492046\n",
              "TOP_PACK        158779  0.417700\n",
              "FREQ_TOP_PACK   158779  0.417700\n",
              "ORANGE          157230  0.413625\n",
              "REGION          149728  0.393889\n",
              "ON_NET          138514  0.364389\n",
              "FREQUENCE_RECH  133055  0.350028\n",
              "MONTANT         133055  0.350028\n",
              "FREQUENCE       127373  0.335080\n",
              "ARPU_SEGMENT    127373  0.335080\n",
              "REVENUE         127373  0.335080"
            ]
          },
          "metadata": {
            "tags": []
          },
          "execution_count": 18
        }
      ]
    },
    {
      "cell_type": "code",
      "metadata": {
        "scrolled": true,
        "id": "2IM0MimBfhv9",
        "colab": {
          "base_uri": "https://localhost:8080/",
          "height": 317
        },
        "outputId": "2f56e656-434d-417a-f178-d8f1560178db"
      },
      "source": [
        "train.describe()"
      ],
      "execution_count": null,
      "outputs": [
        {
          "output_type": "execute_result",
          "data": {
            "text/html": [
              "<div>\n",
              "<style scoped>\n",
              "    .dataframe tbody tr th:only-of-type {\n",
              "        vertical-align: middle;\n",
              "    }\n",
              "\n",
              "    .dataframe tbody tr th {\n",
              "        vertical-align: top;\n",
              "    }\n",
              "\n",
              "    .dataframe thead th {\n",
              "        text-align: right;\n",
              "    }\n",
              "</style>\n",
              "<table border=\"1\" class=\"dataframe\">\n",
              "  <thead>\n",
              "    <tr style=\"text-align: right;\">\n",
              "      <th></th>\n",
              "      <th>MONTANT</th>\n",
              "      <th>FREQUENCE_RECH</th>\n",
              "      <th>REVENUE</th>\n",
              "      <th>ARPU_SEGMENT</th>\n",
              "      <th>FREQUENCE</th>\n",
              "      <th>DATA_VOLUME</th>\n",
              "      <th>ON_NET</th>\n",
              "      <th>ORANGE</th>\n",
              "      <th>TIGO</th>\n",
              "      <th>ZONE1</th>\n",
              "      <th>ZONE2</th>\n",
              "      <th>REGULARITY</th>\n",
              "      <th>FREQ_TOP_PACK</th>\n",
              "      <th>CHURN</th>\n",
              "    </tr>\n",
              "  </thead>\n",
              "  <tbody>\n",
              "    <tr>\n",
              "      <th>count</th>\n",
              "      <td>1.397309e+06</td>\n",
              "      <td>1.397309e+06</td>\n",
              "      <td>1.428000e+06</td>\n",
              "      <td>1.428000e+06</td>\n",
              "      <td>1.428000e+06</td>\n",
              "      <td>1.093615e+06</td>\n",
              "      <td>1.367373e+06</td>\n",
              "      <td>1.258800e+06</td>\n",
              "      <td>864032.000000</td>\n",
              "      <td>169721.000000</td>\n",
              "      <td>136824.000000</td>\n",
              "      <td>2.154048e+06</td>\n",
              "      <td>1.251454e+06</td>\n",
              "      <td>2.154048e+06</td>\n",
              "    </tr>\n",
              "    <tr>\n",
              "      <th>mean</th>\n",
              "      <td>5.532117e+03</td>\n",
              "      <td>1.152912e+01</td>\n",
              "      <td>5.510810e+03</td>\n",
              "      <td>1.836943e+03</td>\n",
              "      <td>1.397814e+01</td>\n",
              "      <td>3.366450e+03</td>\n",
              "      <td>2.776891e+02</td>\n",
              "      <td>9.541871e+01</td>\n",
              "      <td>23.109253</td>\n",
              "      <td>8.170132</td>\n",
              "      <td>7.553309</td>\n",
              "      <td>2.804251e+01</td>\n",
              "      <td>9.272461e+00</td>\n",
              "      <td>1.875474e-01</td>\n",
              "    </tr>\n",
              "    <tr>\n",
              "      <th>std</th>\n",
              "      <td>7.111339e+03</td>\n",
              "      <td>1.327407e+01</td>\n",
              "      <td>7.187113e+03</td>\n",
              "      <td>2.395700e+03</td>\n",
              "      <td>1.469403e+01</td>\n",
              "      <td>1.330446e+04</td>\n",
              "      <td>8.726889e+02</td>\n",
              "      <td>2.049873e+02</td>\n",
              "      <td>63.578086</td>\n",
              "      <td>41.169511</td>\n",
              "      <td>33.487234</td>\n",
              "      <td>2.228686e+01</td>\n",
              "      <td>1.228044e+01</td>\n",
              "      <td>3.903504e-01</td>\n",
              "    </tr>\n",
              "    <tr>\n",
              "      <th>min</th>\n",
              "      <td>1.000000e+01</td>\n",
              "      <td>1.000000e+00</td>\n",
              "      <td>1.000000e+00</td>\n",
              "      <td>0.000000e+00</td>\n",
              "      <td>1.000000e+00</td>\n",
              "      <td>0.000000e+00</td>\n",
              "      <td>0.000000e+00</td>\n",
              "      <td>0.000000e+00</td>\n",
              "      <td>0.000000</td>\n",
              "      <td>0.000000</td>\n",
              "      <td>0.000000</td>\n",
              "      <td>1.000000e+00</td>\n",
              "      <td>1.000000e+00</td>\n",
              "      <td>0.000000e+00</td>\n",
              "    </tr>\n",
              "    <tr>\n",
              "      <th>25%</th>\n",
              "      <td>1.000000e+03</td>\n",
              "      <td>2.000000e+00</td>\n",
              "      <td>1.000000e+03</td>\n",
              "      <td>3.330000e+02</td>\n",
              "      <td>3.000000e+00</td>\n",
              "      <td>0.000000e+00</td>\n",
              "      <td>5.000000e+00</td>\n",
              "      <td>7.000000e+00</td>\n",
              "      <td>2.000000</td>\n",
              "      <td>0.000000</td>\n",
              "      <td>0.000000</td>\n",
              "      <td>6.000000e+00</td>\n",
              "      <td>2.000000e+00</td>\n",
              "      <td>0.000000e+00</td>\n",
              "    </tr>\n",
              "    <tr>\n",
              "      <th>50%</th>\n",
              "      <td>3.000000e+03</td>\n",
              "      <td>7.000000e+00</td>\n",
              "      <td>3.000000e+03</td>\n",
              "      <td>1.000000e+03</td>\n",
              "      <td>9.000000e+00</td>\n",
              "      <td>2.570000e+02</td>\n",
              "      <td>2.700000e+01</td>\n",
              "      <td>2.900000e+01</td>\n",
              "      <td>6.000000</td>\n",
              "      <td>1.000000</td>\n",
              "      <td>2.000000</td>\n",
              "      <td>2.400000e+01</td>\n",
              "      <td>5.000000e+00</td>\n",
              "      <td>0.000000e+00</td>\n",
              "    </tr>\n",
              "    <tr>\n",
              "      <th>75%</th>\n",
              "      <td>7.350000e+03</td>\n",
              "      <td>1.600000e+01</td>\n",
              "      <td>7.368000e+03</td>\n",
              "      <td>2.456000e+03</td>\n",
              "      <td>2.000000e+01</td>\n",
              "      <td>2.895000e+03</td>\n",
              "      <td>1.560000e+02</td>\n",
              "      <td>9.900000e+01</td>\n",
              "      <td>20.000000</td>\n",
              "      <td>3.000000</td>\n",
              "      <td>5.000000</td>\n",
              "      <td>5.100000e+01</td>\n",
              "      <td>1.200000e+01</td>\n",
              "      <td>0.000000e+00</td>\n",
              "    </tr>\n",
              "    <tr>\n",
              "      <th>max</th>\n",
              "      <td>4.700000e+05</td>\n",
              "      <td>1.330000e+02</td>\n",
              "      <td>5.321770e+05</td>\n",
              "      <td>1.773920e+05</td>\n",
              "      <td>9.100000e+01</td>\n",
              "      <td>1.823866e+06</td>\n",
              "      <td>5.080900e+04</td>\n",
              "      <td>2.132300e+04</td>\n",
              "      <td>4174.000000</td>\n",
              "      <td>4792.000000</td>\n",
              "      <td>3697.000000</td>\n",
              "      <td>6.200000e+01</td>\n",
              "      <td>7.130000e+02</td>\n",
              "      <td>1.000000e+00</td>\n",
              "    </tr>\n",
              "  </tbody>\n",
              "</table>\n",
              "</div>"
            ],
            "text/plain": [
              "            MONTANT  FREQUENCE_RECH  ...  FREQ_TOP_PACK         CHURN\n",
              "count  1.397309e+06    1.397309e+06  ...   1.251454e+06  2.154048e+06\n",
              "mean   5.532117e+03    1.152912e+01  ...   9.272461e+00  1.875474e-01\n",
              "std    7.111339e+03    1.327407e+01  ...   1.228044e+01  3.903504e-01\n",
              "min    1.000000e+01    1.000000e+00  ...   1.000000e+00  0.000000e+00\n",
              "25%    1.000000e+03    2.000000e+00  ...   2.000000e+00  0.000000e+00\n",
              "50%    3.000000e+03    7.000000e+00  ...   5.000000e+00  0.000000e+00\n",
              "75%    7.350000e+03    1.600000e+01  ...   1.200000e+01  0.000000e+00\n",
              "max    4.700000e+05    1.330000e+02  ...   7.130000e+02  1.000000e+00\n",
              "\n",
              "[8 rows x 14 columns]"
            ]
          },
          "metadata": {
            "tags": []
          },
          "execution_count": 19
        }
      ]
    },
    {
      "cell_type": "code",
      "metadata": {
        "id": "e625cynJfhv_",
        "colab": {
          "base_uri": "https://localhost:8080/",
          "height": 317
        },
        "outputId": "a1ec16e7-3a0c-4ea5-d500-991a41070a9d"
      },
      "source": [
        "test.describe()"
      ],
      "execution_count": null,
      "outputs": [
        {
          "output_type": "execute_result",
          "data": {
            "text/html": [
              "<div>\n",
              "<style scoped>\n",
              "    .dataframe tbody tr th:only-of-type {\n",
              "        vertical-align: middle;\n",
              "    }\n",
              "\n",
              "    .dataframe tbody tr th {\n",
              "        vertical-align: top;\n",
              "    }\n",
              "\n",
              "    .dataframe thead th {\n",
              "        text-align: right;\n",
              "    }\n",
              "</style>\n",
              "<table border=\"1\" class=\"dataframe\">\n",
              "  <thead>\n",
              "    <tr style=\"text-align: right;\">\n",
              "      <th></th>\n",
              "      <th>MONTANT</th>\n",
              "      <th>FREQUENCE_RECH</th>\n",
              "      <th>REVENUE</th>\n",
              "      <th>ARPU_SEGMENT</th>\n",
              "      <th>FREQUENCE</th>\n",
              "      <th>DATA_VOLUME</th>\n",
              "      <th>ON_NET</th>\n",
              "      <th>ORANGE</th>\n",
              "      <th>TIGO</th>\n",
              "      <th>ZONE1</th>\n",
              "      <th>ZONE2</th>\n",
              "      <th>REGULARITY</th>\n",
              "      <th>FREQ_TOP_PACK</th>\n",
              "    </tr>\n",
              "  </thead>\n",
              "  <tbody>\n",
              "    <tr>\n",
              "      <th>count</th>\n",
              "      <td>247072.000000</td>\n",
              "      <td>247072.000000</td>\n",
              "      <td>252754.000000</td>\n",
              "      <td>252754.000000</td>\n",
              "      <td>252754.000000</td>\n",
              "      <td>193087.000000</td>\n",
              "      <td>241613.000000</td>\n",
              "      <td>222897.000000</td>\n",
              "      <td>153126.000000</td>\n",
              "      <td>29861.000000</td>\n",
              "      <td>24076.000000</td>\n",
              "      <td>380127.000000</td>\n",
              "      <td>221348.000000</td>\n",
              "    </tr>\n",
              "    <tr>\n",
              "      <th>mean</th>\n",
              "      <td>5524.958826</td>\n",
              "      <td>11.519853</td>\n",
              "      <td>5499.680468</td>\n",
              "      <td>1833.232443</td>\n",
              "      <td>13.957963</td>\n",
              "      <td>3346.095454</td>\n",
              "      <td>278.806310</td>\n",
              "      <td>95.193008</td>\n",
              "      <td>23.052088</td>\n",
              "      <td>8.164663</td>\n",
              "      <td>7.655300</td>\n",
              "      <td>28.081699</td>\n",
              "      <td>9.261584</td>\n",
              "    </tr>\n",
              "    <tr>\n",
              "      <th>std</th>\n",
              "      <td>7116.320922</td>\n",
              "      <td>13.242743</td>\n",
              "      <td>7195.093138</td>\n",
              "      <td>2398.360570</td>\n",
              "      <td>14.652660</td>\n",
              "      <td>12002.653047</td>\n",
              "      <td>874.253933</td>\n",
              "      <td>203.950776</td>\n",
              "      <td>65.042688</td>\n",
              "      <td>48.857605</td>\n",
              "      <td>33.021478</td>\n",
              "      <td>22.289094</td>\n",
              "      <td>12.268907</td>\n",
              "    </tr>\n",
              "    <tr>\n",
              "      <th>min</th>\n",
              "      <td>25.000000</td>\n",
              "      <td>1.000000</td>\n",
              "      <td>1.000000</td>\n",
              "      <td>0.000000</td>\n",
              "      <td>1.000000</td>\n",
              "      <td>0.000000</td>\n",
              "      <td>0.000000</td>\n",
              "      <td>0.000000</td>\n",
              "      <td>0.000000</td>\n",
              "      <td>0.000000</td>\n",
              "      <td>0.000000</td>\n",
              "      <td>1.000000</td>\n",
              "      <td>1.000000</td>\n",
              "    </tr>\n",
              "    <tr>\n",
              "      <th>25%</th>\n",
              "      <td>1000.000000</td>\n",
              "      <td>2.000000</td>\n",
              "      <td>1000.000000</td>\n",
              "      <td>333.000000</td>\n",
              "      <td>3.000000</td>\n",
              "      <td>0.000000</td>\n",
              "      <td>5.000000</td>\n",
              "      <td>7.000000</td>\n",
              "      <td>2.000000</td>\n",
              "      <td>0.000000</td>\n",
              "      <td>0.000000</td>\n",
              "      <td>6.000000</td>\n",
              "      <td>2.000000</td>\n",
              "    </tr>\n",
              "    <tr>\n",
              "      <th>50%</th>\n",
              "      <td>3000.000000</td>\n",
              "      <td>7.000000</td>\n",
              "      <td>3000.000000</td>\n",
              "      <td>1000.000000</td>\n",
              "      <td>9.000000</td>\n",
              "      <td>259.000000</td>\n",
              "      <td>27.000000</td>\n",
              "      <td>29.000000</td>\n",
              "      <td>6.000000</td>\n",
              "      <td>1.000000</td>\n",
              "      <td>2.000000</td>\n",
              "      <td>24.000000</td>\n",
              "      <td>5.000000</td>\n",
              "    </tr>\n",
              "    <tr>\n",
              "      <th>75%</th>\n",
              "      <td>7350.000000</td>\n",
              "      <td>16.000000</td>\n",
              "      <td>7351.000000</td>\n",
              "      <td>2450.000000</td>\n",
              "      <td>19.000000</td>\n",
              "      <td>2884.000000</td>\n",
              "      <td>157.000000</td>\n",
              "      <td>99.000000</td>\n",
              "      <td>20.000000</td>\n",
              "      <td>3.000000</td>\n",
              "      <td>5.000000</td>\n",
              "      <td>51.000000</td>\n",
              "      <td>12.000000</td>\n",
              "    </tr>\n",
              "    <tr>\n",
              "      <th>max</th>\n",
              "      <td>201500.000000</td>\n",
              "      <td>146.000000</td>\n",
              "      <td>200965.000000</td>\n",
              "      <td>66988.000000</td>\n",
              "      <td>91.000000</td>\n",
              "      <td>977796.000000</td>\n",
              "      <td>26786.000000</td>\n",
              "      <td>6345.000000</td>\n",
              "      <td>3708.000000</td>\n",
              "      <td>4215.000000</td>\n",
              "      <td>1649.000000</td>\n",
              "      <td>62.000000</td>\n",
              "      <td>390.000000</td>\n",
              "    </tr>\n",
              "  </tbody>\n",
              "</table>\n",
              "</div>"
            ],
            "text/plain": [
              "             MONTANT  FREQUENCE_RECH  ...     REGULARITY  FREQ_TOP_PACK\n",
              "count  247072.000000   247072.000000  ...  380127.000000  221348.000000\n",
              "mean     5524.958826       11.519853  ...      28.081699       9.261584\n",
              "std      7116.320922       13.242743  ...      22.289094      12.268907\n",
              "min        25.000000        1.000000  ...       1.000000       1.000000\n",
              "25%      1000.000000        2.000000  ...       6.000000       2.000000\n",
              "50%      3000.000000        7.000000  ...      24.000000       5.000000\n",
              "75%      7350.000000       16.000000  ...      51.000000      12.000000\n",
              "max    201500.000000      146.000000  ...      62.000000     390.000000\n",
              "\n",
              "[8 rows x 13 columns]"
            ]
          },
          "metadata": {
            "tags": []
          },
          "execution_count": 20
        }
      ]
    },
    {
      "cell_type": "code",
      "metadata": {
        "id": "TtKfDBPpfhwB",
        "colab": {
          "base_uri": "https://localhost:8080/",
          "height": 173
        },
        "outputId": "a2533811-2a28-4751-be8a-187c43578306"
      },
      "source": [
        "train.describe(exclude = np.number)#no duplicates in user_id, MRG is useless"
      ],
      "execution_count": null,
      "outputs": [
        {
          "output_type": "execute_result",
          "data": {
            "text/html": [
              "<div>\n",
              "<style scoped>\n",
              "    .dataframe tbody tr th:only-of-type {\n",
              "        vertical-align: middle;\n",
              "    }\n",
              "\n",
              "    .dataframe tbody tr th {\n",
              "        vertical-align: top;\n",
              "    }\n",
              "\n",
              "    .dataframe thead th {\n",
              "        text-align: right;\n",
              "    }\n",
              "</style>\n",
              "<table border=\"1\" class=\"dataframe\">\n",
              "  <thead>\n",
              "    <tr style=\"text-align: right;\">\n",
              "      <th></th>\n",
              "      <th>user_id</th>\n",
              "      <th>REGION</th>\n",
              "      <th>TENURE</th>\n",
              "      <th>MRG</th>\n",
              "      <th>TOP_PACK</th>\n",
              "    </tr>\n",
              "  </thead>\n",
              "  <tbody>\n",
              "    <tr>\n",
              "      <th>count</th>\n",
              "      <td>2154048</td>\n",
              "      <td>1304749</td>\n",
              "      <td>2154048</td>\n",
              "      <td>2154048</td>\n",
              "      <td>1251454</td>\n",
              "    </tr>\n",
              "    <tr>\n",
              "      <th>unique</th>\n",
              "      <td>2154048</td>\n",
              "      <td>14</td>\n",
              "      <td>8</td>\n",
              "      <td>1</td>\n",
              "      <td>140</td>\n",
              "    </tr>\n",
              "    <tr>\n",
              "      <th>top</th>\n",
              "      <td>58b3593a3586a6c09e3fecca0f5c88b8de052067</td>\n",
              "      <td>DAKAR</td>\n",
              "      <td>K &gt; 24 month</td>\n",
              "      <td>NO</td>\n",
              "      <td>All-net 500F=2000F;5d</td>\n",
              "    </tr>\n",
              "    <tr>\n",
              "      <th>freq</th>\n",
              "      <td>1</td>\n",
              "      <td>513271</td>\n",
              "      <td>2043201</td>\n",
              "      <td>2154048</td>\n",
              "      <td>317802</td>\n",
              "    </tr>\n",
              "  </tbody>\n",
              "</table>\n",
              "</div>"
            ],
            "text/plain": [
              "                                         user_id  ...               TOP_PACK\n",
              "count                                    2154048  ...                1251454\n",
              "unique                                   2154048  ...                    140\n",
              "top     58b3593a3586a6c09e3fecca0f5c88b8de052067  ...  All-net 500F=2000F;5d\n",
              "freq                                           1  ...                 317802\n",
              "\n",
              "[4 rows x 5 columns]"
            ]
          },
          "metadata": {
            "tags": []
          },
          "execution_count": 21
        }
      ]
    },
    {
      "cell_type": "code",
      "metadata": {
        "id": "AwYQ9gyYfhwD",
        "colab": {
          "base_uri": "https://localhost:8080/",
          "height": 173
        },
        "outputId": "40e3ee60-412c-4af7-f691-c453e67c9070"
      },
      "source": [
        "test.describe(exclude = np.number)"
      ],
      "execution_count": null,
      "outputs": [
        {
          "output_type": "execute_result",
          "data": {
            "text/html": [
              "<div>\n",
              "<style scoped>\n",
              "    .dataframe tbody tr th:only-of-type {\n",
              "        vertical-align: middle;\n",
              "    }\n",
              "\n",
              "    .dataframe tbody tr th {\n",
              "        vertical-align: top;\n",
              "    }\n",
              "\n",
              "    .dataframe thead th {\n",
              "        text-align: right;\n",
              "    }\n",
              "</style>\n",
              "<table border=\"1\" class=\"dataframe\">\n",
              "  <thead>\n",
              "    <tr style=\"text-align: right;\">\n",
              "      <th></th>\n",
              "      <th>user_id</th>\n",
              "      <th>REGION</th>\n",
              "      <th>TENURE</th>\n",
              "      <th>MRG</th>\n",
              "      <th>TOP_PACK</th>\n",
              "    </tr>\n",
              "  </thead>\n",
              "  <tbody>\n",
              "    <tr>\n",
              "      <th>count</th>\n",
              "      <td>380127</td>\n",
              "      <td>230399</td>\n",
              "      <td>380127</td>\n",
              "      <td>380127</td>\n",
              "      <td>221348</td>\n",
              "    </tr>\n",
              "    <tr>\n",
              "      <th>unique</th>\n",
              "      <td>380127</td>\n",
              "      <td>14</td>\n",
              "      <td>8</td>\n",
              "      <td>1</td>\n",
              "      <td>102</td>\n",
              "    </tr>\n",
              "    <tr>\n",
              "      <th>top</th>\n",
              "      <td>4e4419b1b0209629bd07a8e4674b599936c95ba5</td>\n",
              "      <td>DAKAR</td>\n",
              "      <td>K &gt; 24 month</td>\n",
              "      <td>NO</td>\n",
              "      <td>All-net 500F=2000F;5d</td>\n",
              "    </tr>\n",
              "    <tr>\n",
              "      <th>freq</th>\n",
              "      <td>1</td>\n",
              "      <td>90615</td>\n",
              "      <td>360350</td>\n",
              "      <td>380127</td>\n",
              "      <td>56038</td>\n",
              "    </tr>\n",
              "  </tbody>\n",
              "</table>\n",
              "</div>"
            ],
            "text/plain": [
              "                                         user_id  ...               TOP_PACK\n",
              "count                                     380127  ...                 221348\n",
              "unique                                    380127  ...                    102\n",
              "top     4e4419b1b0209629bd07a8e4674b599936c95ba5  ...  All-net 500F=2000F;5d\n",
              "freq                                           1  ...                  56038\n",
              "\n",
              "[4 rows x 5 columns]"
            ]
          },
          "metadata": {
            "tags": []
          },
          "execution_count": 22
        }
      ]
    },
    {
      "cell_type": "markdown",
      "metadata": {
        "id": "ECyKvK3ZfhwF"
      },
      "source": [
        "Let's delete the 'MRG' column since it consists of a single value. Also, let's delete colums 'ZONE2' and 'ZONE1' since they have so many missing values. "
      ]
    },
    {
      "cell_type": "code",
      "metadata": {
        "id": "QOROO5l5fhwH",
        "colab": {
          "base_uri": "https://localhost:8080/",
          "height": 68
        },
        "outputId": "4b45f063-5bb1-4bb9-d834-73b551570fa4"
      },
      "source": [
        "train.REGION.unique()"
      ],
      "execution_count": null,
      "outputs": [
        {
          "output_type": "execute_result",
          "data": {
            "text/plain": [
              "array(['FATICK', nan, 'DAKAR', 'LOUGA', 'TAMBACOUNDA', 'KAOLACK', 'THIES',\n",
              "       'SAINT-LOUIS', 'KOLDA', 'KAFFRINE', 'DIOURBEL', 'ZIGUINCHOR',\n",
              "       'MATAM', 'SEDHIOU', 'KEDOUGOU'], dtype=object)"
            ]
          },
          "metadata": {
            "tags": []
          },
          "execution_count": 23
        }
      ]
    },
    {
      "cell_type": "code",
      "metadata": {
        "id": "wIZWbLzlfhwJ",
        "colab": {
          "base_uri": "https://localhost:8080/",
          "height": 68
        },
        "outputId": "c303adda-5aa1-4e10-98a5-2aae491f3f58"
      },
      "source": [
        "print(train.shape)\n",
        "print()\n",
        "print(test.shape)"
      ],
      "execution_count": null,
      "outputs": [
        {
          "output_type": "stream",
          "text": [
            "(2154048, 19)\n",
            "\n",
            "(380127, 18)\n"
          ],
          "name": "stdout"
        }
      ]
    },
    {
      "cell_type": "markdown",
      "metadata": {
        "id": "wxU3Pn4JfhwL"
      },
      "source": [
        "# EXPLORING THE DATA"
      ]
    },
    {
      "cell_type": "markdown",
      "metadata": {
        "id": "H9ZubjRufhwL"
      },
      "source": [
        "\n",
        "\n",
        "\n",
        "\n",
        "\n",
        "Let's start by looking at the distribution of our target variable."
      ]
    },
    {
      "cell_type": "code",
      "metadata": {
        "id": "77UrlikGfhwM",
        "colab": {
          "base_uri": "https://localhost:8080/",
          "height": 377
        },
        "outputId": "369c934a-16ac-47c3-b2ac-09788465ac17"
      },
      "source": [
        "print(train.groupby(['CHURN']).size())\n",
        "#bar chart to show distribution of the target variable\n",
        "n_obs = train.shape[0]\n",
        "#index = ['No','Yes']\n",
        "churn_plot = train['CHURN'].value_counts().div(n_obs).plot(kind='bar',figsize=(4,4),title=\"Churn rate\", color=['#BB6B5A','#8CCB9B'])\n",
        "churn_plot.set_xlabel(\"Churn Risk\")\n",
        "churn_plot.set_ylabel(\"Frequency\")"
      ],
      "execution_count": null,
      "outputs": [
        {
          "output_type": "stream",
          "text": [
            "CHURN\n",
            "0    1750062\n",
            "1     403986\n",
            "dtype: int64\n"
          ],
          "name": "stdout"
        },
        {
          "output_type": "execute_result",
          "data": {
            "text/plain": [
              "Text(0, 0.5, 'Frequency')"
            ]
          },
          "metadata": {
            "tags": []
          },
          "execution_count": 25
        },
        {
          "output_type": "display_data",
          "data": {
            "image/png": "[encoded data removed]",
            "text/plain": [
              "<Figure size 288x288 with 1 Axes>"
            ]
          },
          "metadata": {
            "tags": [],
            "needs_background": "light"
          }
        }
      ]
    },
    {
      "cell_type": "markdown",
      "metadata": {
        "id": "ZwISf9SJfhwO"
      },
      "source": [
        "It is imbalanced, with more than 80% of customers staying. Next, let's take a look at our features. We have a mix of continous and categorical features. \n",
        "\n",
        "Let's begin with the categorical features and investigate how the churn rate differ across the various levels of each categorical feature."
      ]
    },
    {
      "cell_type": "code",
      "metadata": {
        "id": "g9oIItVwfhwO"
      },
      "source": [
        "def attrition_rate_plot(col, target, data, ax=None):\n",
        "    \"\"\"Stacked bar chart of churn rate for `target` against \n",
        "    `col`. \n",
        "    \n",
        "    Args:\n",
        "        col (string): column name of feature variable\n",
        "        target (string): column name of target variable\n",
        "        data (pandas DataFrame): dataframe that contains columns \n",
        "            `col` and `target`\n",
        "        ax (matplotlib axes object, optional): matplotlib axes \n",
        "            object to attach plot to\n",
        "    \"\"\"\n",
        "    counts = (train[[target, col]]\n",
        "                  .groupby([target, col])\n",
        "                  .size()\n",
        "                  .unstack(target)\n",
        "             )\n",
        "    group_counts = counts.sum(axis='columns')\n",
        "    props = counts.div(group_counts, axis='index')\n",
        "\n",
        "    props.plot(kind=\"barh\", stacked=True, ax=ax, color = ['g', 'r'])\n",
        "    ax.invert_yaxis()\n",
        "    ax.legend().remove()"
      ],
      "execution_count": null,
      "outputs": []
    },
    {
      "cell_type": "code",
      "metadata": {
        "id": "B2tEOb0ufhwQ",
        "colab": {
          "base_uri": "https://localhost:8080/",
          "height": 804
        },
        "outputId": "1ffbe545-a914-4664-98bd-a30a71b201bd"
      },
      "source": [
        "cols_to_plot = [\n",
        "    'REGION',\n",
        "    'TENURE'\n",
        "]\n",
        "\n",
        "fig, ax = plt.subplots(\n",
        "    len(cols_to_plot), 1, figsize=(11,11)\n",
        ")\n",
        "for idx, col in enumerate(cols_to_plot):\n",
        "    attrition_rate_plot(\n",
        "        col, 'CHURN', train, ax=ax[idx]\n",
        "    )\n",
        "\n",
        "ax[0].legend(\n",
        "    loc='lower center', bbox_to_anchor=(0.5, 1.05), title='Churn'\n",
        ")\n",
        "\n",
        "fig.tight_layout()"
      ],
      "execution_count": null,
      "outputs": [
        {
          "output_type": "display_data",
          "data": {
            "image/png": "[encoded data removed]",
            "text/plain": [
              "<Figure size 792x792 with 2 Axes>"
            ]
          },
          "metadata": {
            "tags": [],
            "needs_background": "light"
          }
        }
      ]
    },
    {
      "cell_type": "markdown",
      "metadata": {
        "id": "b3scogQYfhwS"
      },
      "source": [
        "It looks like customers with tenure between 12 and 15 months have the highest churn rate while new customers have the lowest.\n",
        "\n",
        "Now, let's look at the relationship between the recharge amount and the monthly revenue"
      ]
    },
    {
      "cell_type": "code",
      "metadata": {
        "id": "TUj5li2jfhwS",
        "colab": {
          "base_uri": "https://localhost:8080/",
          "height": 517
        },
        "outputId": "75a80400-cce4-4614-f0e1-adffcae19dae"
      },
      "source": [
        "# Set initial plot options\n",
        "sns.set_style('white')\n",
        "plt.figure(figsize = (14, 8))\n",
        "\n",
        "# Create scatterplot\n",
        "sns.scatterplot(x = \"MONTANT\", \n",
        "                y = \"REVENUE\", \n",
        "                # Group by and change dot style and  by CHURN\n",
        "                hue = \"CHURN\",\n",
        "                size = \"CHURN\",  \n",
        "                style = \"CHURN\", \n",
        "                data = train, \n",
        "                # Change color of hue categories\n",
        "                palette = [\"r\", \"g\"],\n",
        "                alpha = 0.2)\n",
        "\n",
        "# Despine plot\n",
        "sns.despine()\n",
        "# Final formatting touches\n",
        "plt.xlabel(\"MONTANT\", fontsize = 12, fontweight = \"semibold\")\n",
        "plt.ylabel(\"REVENUE\", fontsize = 12, fontweight = \"semibold\")\n",
        "plt.title(\"REVENUE by AMOUNT\", fontsize = 14, fontweight = \"semibold\")\n",
        "plt.show()"
      ],
      "execution_count": null,
      "outputs": [
        {
          "output_type": "display_data",
          "data": {
            "image/png": "[encoded data removed]",
            "text/plain": [
              "<Figure size 1008x576 with 1 Axes>"
            ]
          },
          "metadata": {
            "tags": []
          }
        }
      ]
    },
    {
      "cell_type": "markdown",
      "metadata": {
        "id": "MuAfGndYfhwU"
      },
      "source": [
        "\n",
        "\n",
        "\n",
        "\n",
        "\n",
        "\n",
        "\n",
        "\n",
        "\n",
        "There seems to be some correlation between the two and also there's some outliers. Outliers can create bias in a model's performance. Should we keep them or remove them? I will let you decide."
      ]
    },
    {
      "cell_type": "markdown",
      "metadata": {
        "id": "O8Re5AvRfhwU"
      },
      "source": [
        "# BUILDING SOME MODELS"
      ]
    },
    {
      "cell_type": "markdown",
      "metadata": {
        "id": "XwdbKgnEfhwU"
      },
      "source": [
        "\n",
        "\n",
        "\n",
        "\n",
        "\n",
        "\n",
        "\n",
        "\n",
        "\n",
        "\n",
        "\n",
        "\n",
        "\n",
        "\n",
        "\n",
        "\n",
        "\n",
        "\n",
        "\n",
        "\n",
        "Let's train a model using the [logistic regression](https://scikit-learn.org/stable/modules/generated/sklearn.linear_model.LogisticRegression.html). We chose the logistic regression because it is fast and serve as a good baseline."
      ]
    },
    {
      "cell_type": "code",
      "metadata": {
        "id": "ACy0vM3IfhwV"
      },
      "source": [
        "from sklearn.preprocessing import StandardScaler\n",
        "from sklearn.impute import SimpleImputer\n",
        "from sklearn.compose import ColumnTransformer\n",
        "from sklearn.preprocessing import LabelEncoder, OneHotEncoder\n",
        "\n",
        "from sklearn.linear_model import LogisticRegression\n",
        "from sklearn.multioutput import MultiOutputClassifier\n",
        "\n",
        "from sklearn.pipeline import Pipeline\n",
        "\n",
        "from sklearn.model_selection import train_test_split\n",
        "\n",
        "from sklearn.metrics import roc_curve, roc_auc_score\n",
        "\n",
        "RANDOM_SEED = 123    # Set a random seed for reproducibility!"
      ],
      "execution_count": null,
      "outputs": []
    },
    {
      "cell_type": "markdown",
      "metadata": {
        "id": "krbxO-SbfhwX"
      },
      "source": [
        "Some models, including logistic regression, only work with numeric input for features. So we'll either have to drop the categorical features or transform them. We'll opt for the later since we want to capture as much as information as we can. To do this, we'll use a method called [one-hot encoding](https://scikit-learn.org/stable/modules/generated/sklearn.preprocessing.OneHotEncoder.html)."
      ]
    },
    {
      "cell_type": "markdown",
      "metadata": {
        "id": "_E2_WSU8fhwX"
      },
      "source": [
        "We also need to do some preprocessing for the numeric features. We have to scale each numeric feature and the reason for that is because we are using [regularization](https://en.wikipedia.org/wiki/Regularization_(mathematics)). We will use the [StandardScaler](https://scikit-learn.org/stable/modules/generated/sklearn.preprocessing.StandardScaler.html), it transforms each feature such that its distribution has a mean value of 0 and a standard deviation of 1.\n",
        "\n",
        "Another issue we have to take care of is the missing values since logistic regression can't handle them. For that, we'll use theSimpleImputer (https://scikit-learn.org/stable/modules/generated/sklearn.impute.SimpleImputer.html) function.\n",
        "\n",
        "This is quite a lot of steps but not to worry, we'll use Scikit-Learn's built-in composition functionality to encapsulate everything into a pipeline. "
      ]
    },
    {
      "cell_type": "markdown",
      "metadata": {
        "id": "CXJ-3KuYfhwa"
      },
      "source": [
        "### Feature Preprocessing"
      ]
    },
    {
      "cell_type": "code",
      "metadata": {
        "id": "XB6Ikrzsfhwa"
      },
      "source": [
        "#reading in the data\n",
        "train = pd.read_csv('UmojaHack/Train.csv')\n",
        "test = pd.read_csv('UmojaHack/Test.csv')\n",
        "submission_file = pd.read_csv('UmojaHack/SampleSubmission.csv')\n",
        "describtion = pd.read_csv('UmojaHack/VariableDefinitions.csv') "
      ],
      "execution_count": null,
      "outputs": []
    },
    {
      "cell_type": "code",
      "metadata": {
        "id": "5t4U7cLGfhwf"
      },
      "source": [
        "# train = train.drop(['MRG', 'ZONE2', 'ZONE1'], axis = 1)\n",
        "# test = test.drop(['MRG', 'ZONE2', 'ZONE1'], axis = 1)\n",
        "train = train.drop(['user_id', 'MRG', 'ZONE2', 'ZONE1'], axis = 1)\n",
        "test = test.drop(['user_id', 'MRG', 'ZONE2', 'ZONE1'], axis = 1)\n",
        "\n",
        "# def prep(train):\n",
        "\n",
        "feat_operator = train[['ON_NET', 'ORANGE', 'TIGO']]\n",
        "feat_operator = feat_operator.apply(lambda x:x.fillna(x.value_counts().index[0]))\n",
        "train[['ON_NET', 'ORANGE', 'TIGO']] = feat_operator\n",
        "#------------------------------------------\n",
        "columns_means = ['MONTANT', 'FREQUENCE_RECH', 'FREQUENCE', 'REVENUE', 'FREQ_TOP_PACK']\n",
        "\n",
        "for column_mean in columns_means:\n",
        "    mean_rev = round(np.log(train[[column_mean]].mean()[0]), 2)\n",
        "    train[column_mean] = np.log(train[[column_mean]].fillna(mean_rev))\n",
        "#-------------------------------------\n",
        "mean_rev = round(np.log(1+train[['ARPU_SEGMENT']].mean()[0]), 2)\n",
        "train['ARPU_SEGMENT'] = np.log(1+train[['ARPU_SEGMENT']].fillna(mean_rev))\n",
        "\n",
        "train['REGION'] = train[['REGION']].fillna('unknown')\n",
        "\n",
        "#     fill_list = list(train[['DATA_VOLUME']].dropna().values.reshape(-1))\n",
        "\n",
        "#     m = train['DATA_VOLUME'].isnull()\n",
        "#     #set NaNs values\n",
        "#     train.loc[m, 'DATA_VOLUME'] = np.random.choice(fill_list, size=m.sum())\n",
        "#     train['DATA_VOLUME'] = np.log(1+train[['DATA_VOLUME']])\n",
        "#     return train\n",
        "\n",
        "# train = prep(train)\n",
        "# test = prep(test)"
      ],
      "execution_count": null,
      "outputs": []
    },
    {
      "cell_type": "code",
      "metadata": {
        "id": "FfLAMGeLfhwh"
      },
      "source": [
        "# train.columns[train.dtypes != \"object\"].values"
      ],
      "execution_count": null,
      "outputs": []
    },
    {
      "cell_type": "code",
      "metadata": {
        "id": "KnmE5nqnfhwj",
        "colab": {
          "base_uri": "https://localhost:8080/",
          "height": 34
        },
        "outputId": "e1c9ee06-b6f5-42f7-b8f9-1852141162a9"
      },
      "source": [
        "numeric_cols = ['MONTANT', 'FREQUENCE_RECH', 'REVENUE', 'ARPU_SEGMENT', 'FREQUENCE',\\\n",
        "                   'DATA_VOLUME', 'ON_NET', 'ORANGE', 'TIGO', 'REGULARITY', 'FREQ_TOP_PACK']\n",
        "print(numeric_cols)"
      ],
      "execution_count": null,
      "outputs": [
        {
          "output_type": "stream",
          "text": [
            "['MONTANT', 'FREQUENCE_RECH', 'REVENUE', 'ARPU_SEGMENT', 'FREQUENCE', 'DATA_VOLUME', 'ON_NET', 'ORANGE', 'TIGO', 'REGULARITY', 'FREQ_TOP_PACK']\n"
          ],
          "name": "stdout"
        }
      ]
    },
    {
      "cell_type": "code",
      "metadata": {
        "id": "i9keiAddfhwl",
        "colab": {
          "base_uri": "https://localhost:8080/",
          "height": 34
        },
        "outputId": "35b4b21d-e0f4-4526-d42e-68871422fe46"
      },
      "source": [
        "#categorical_cols = df.columns[df.dtypes == \"object\"].values\n",
        "categorical_cols = ['REGION', 'TENURE', 'TOP_PACK']\n",
        "print(categorical_cols)"
      ],
      "execution_count": null,
      "outputs": [
        {
          "output_type": "stream",
          "text": [
            "['REGION', 'TENURE', 'TOP_PACK']\n"
          ],
          "name": "stdout"
        }
      ]
    },
    {
      "cell_type": "code",
      "metadata": {
        "id": "Tg4C1gesfhwn"
      },
      "source": [
        "# chain preprocessing into a Pipeline object\n",
        "# each step is a tuple of (name you chose, sklearn transformer)\n",
        "numeric_preprocessing_steps = Pipeline([\n",
        "    ('standard_scaler', StandardScaler()),\n",
        "    ('simple_imputer', SimpleImputer(strategy='constant', fill_value=0, add_indicator = True))\n",
        "])\n",
        "\n",
        "categorical_preprocessing_steps = Pipeline([\n",
        "    ('simple_imputer', SimpleImputer(strategy='constant', fill_value='Missing', add_indicator = True)),\n",
        "    ('onehot', OneHotEncoder(handle_unknown='ignore'))\n",
        "])\n",
        "\n",
        "# create the preprocessor stage of final pipeline\n",
        "# each entry in the transformer list is a tuple of\n",
        "# (name you choose, sklearn transformer, list of columns)\n",
        "preprocessor = ColumnTransformer(\n",
        "    transformers = [\n",
        "        (\"numeric\", numeric_preprocessing_steps, numeric_cols),\n",
        "        ('categorical', categorical_preprocessing_steps, categorical_cols)\n",
        "    ],\n",
        "    remainder = \"drop\"\n",
        ")"
      ],
      "execution_count": null,
      "outputs": []
    },
    {
      "cell_type": "markdown",
      "metadata": {
        "id": "sDrLAAj8fhwo"
      },
      "source": [
        "### Putting Together the Full Pipeline"
      ]
    },
    {
      "cell_type": "markdown",
      "metadata": {
        "id": "JUKVRdjifhwp"
      },
      "source": [
        "We put both the preprocessing functions and the estimatior into one Pipeline object, this allows to run the data through all the steps in one interface."
      ]
    },
    {
      "cell_type": "code",
      "metadata": {
        "id": "Aap95tHDfhwp"
      },
      "source": [
        "from xgboost import XGBClassifier\n",
        "from sklearn.ensemble import RandomForestClassifier\n",
        "from lightgbm import LGBMClassifier\n",
        "\n",
        "full_pipeline_LGBM = Pipeline([\n",
        "    (\"preprocessor\", preprocessor),\n",
        "    (\"estimator\", LGBMClassifier(n_estimators= 50)\n",
        "),\n",
        "])\n",
        "\n",
        "full_pipeline_XGB = Pipeline([\n",
        "    (\"preprocessor\", preprocessor),\n",
        "    (\"estimator\", XGBClassifier(max_depth = 10, tree_method = 'hist', n_estimators= 50)\n",
        "),\n",
        "])"
      ],
      "execution_count": null,
      "outputs": []
    },
    {
      "cell_type": "code",
      "metadata": {
        "id": "hlI8hf-mhZyx"
      },
      "source": [
        "from datetime import datetime\n",
        "from sklearn.model_selection import RandomizedSearchCV, GridSearchCV\n",
        "from sklearn.metrics import roc_auc_score\n",
        "from sklearn.model_selection import StratifiedKFold"
      ],
      "execution_count": null,
      "outputs": []
    },
    {
      "cell_type": "code",
      "metadata": {
        "id": "XKIsTIAohe2A"
      },
      "source": [
        "params = {\n",
        "        'min_child_weight': [1, 5, 10],\n",
        "        'gamma': [0.5, 1, 1.5, 2, 5],\n",
        "        'subsample': [0.6, 0.8, 1.0],\n",
        "        'colsample_bytree': [0.6, 0.8, 1.0],\n",
        "        'max_depth': [3, 4, 5]\n",
        "        }\n",
        "def timer(start_time=None):\n",
        "    if not start_time:\n",
        "        start_time = datetime.now()\n",
        "        return start_time\n",
        "    elif start_time:\n",
        "        thour, temp_sec = divmod((datetime.now() - start_time).total_seconds(), 3600)\n",
        "        tmin, tsec = divmod(temp_sec, 60)\n",
        "        print('\\n Time taken: %i hours %i minutes and %s seconds.' % (thour, tmin, round(tsec, 2)))\n",
        "\n",
        "\n"
      ],
      "execution_count": null,
      "outputs": []
    },
    {
      "cell_type": "code",
      "metadata": {
        "id": "6Ut-mQCRhfkW"
      },
      "source": [
        "xgb = XGBClassifier(learning_rate=0.02, n_estimators=600, objective='binary:logistic',\n",
        "                    silent=True, nthread=1)"
      ],
      "execution_count": null,
      "outputs": []
    },
    {
      "cell_type": "code",
      "metadata": {
        "id": "9fST_L_zieKe",
        "colab": {
          "base_uri": "https://localhost:8080/"
        },
        "outputId": "839a641b-0199-4ab4-d198-771f8d74f778"
      },
      "source": [
        "X_train"
      ],
      "execution_count": null,
      "outputs": [
        {
          "output_type": "execute_result",
          "data": {
            "text/html": [
              "<div>\n",
              "<style scoped>\n",
              "    .dataframe tbody tr th:only-of-type {\n",
              "        vertical-align: middle;\n",
              "    }\n",
              "\n",
              "    .dataframe tbody tr th {\n",
              "        vertical-align: top;\n",
              "    }\n",
              "\n",
              "    .dataframe thead th {\n",
              "        text-align: right;\n",
              "    }\n",
              "</style>\n",
              "<table border=\"1\" class=\"dataframe\">\n",
              "  <thead>\n",
              "    <tr style=\"text-align: right;\">\n",
              "      <th></th>\n",
              "      <th>REGION</th>\n",
              "      <th>TENURE</th>\n",
              "      <th>MONTANT</th>\n",
              "      <th>FREQUENCE_RECH</th>\n",
              "      <th>REVENUE</th>\n",
              "      <th>ARPU_SEGMENT</th>\n",
              "      <th>FREQUENCE</th>\n",
              "      <th>DATA_VOLUME</th>\n",
              "      <th>ON_NET</th>\n",
              "      <th>ORANGE</th>\n",
              "      <th>TIGO</th>\n",
              "      <th>REGULARITY</th>\n",
              "      <th>TOP_PACK</th>\n",
              "      <th>FREQ_TOP_PACK</th>\n",
              "    </tr>\n",
              "  </thead>\n",
              "  <tbody>\n",
              "    <tr>\n",
              "      <th>329063</th>\n",
              "      <td>DAKAR</td>\n",
              "      <td>I 18-21 month</td>\n",
              "      <td>8.665613</td>\n",
              "      <td>2.944439</td>\n",
              "      <td>8.655737</td>\n",
              "      <td>7.557473</td>\n",
              "      <td>2.995732</td>\n",
              "      <td>NaN</td>\n",
              "      <td>66.0</td>\n",
              "      <td>27.0</td>\n",
              "      <td>10.0</td>\n",
              "      <td>27</td>\n",
              "      <td>All-net 500F=2000F;5d</td>\n",
              "      <td>1.609438</td>\n",
              "    </tr>\n",
              "    <tr>\n",
              "      <th>1434938</th>\n",
              "      <td>unknown</td>\n",
              "      <td>I 18-21 month</td>\n",
              "      <td>2.154085</td>\n",
              "      <td>0.891998</td>\n",
              "      <td>2.152924</td>\n",
              "      <td>2.142416</td>\n",
              "      <td>0.970779</td>\n",
              "      <td>NaN</td>\n",
              "      <td>0.0</td>\n",
              "      <td>1.0</td>\n",
              "      <td>1.0</td>\n",
              "      <td>2</td>\n",
              "      <td>NaN</td>\n",
              "      <td>0.802002</td>\n",
              "    </tr>\n",
              "    <tr>\n",
              "      <th>2055271</th>\n",
              "      <td>DIOURBEL</td>\n",
              "      <td>K &gt; 24 month</td>\n",
              "      <td>7.600902</td>\n",
              "      <td>1.386294</td>\n",
              "      <td>7.822445</td>\n",
              "      <td>6.725034</td>\n",
              "      <td>1.791759</td>\n",
              "      <td>2947.0</td>\n",
              "      <td>0.0</td>\n",
              "      <td>1.0</td>\n",
              "      <td>1.0</td>\n",
              "      <td>31</td>\n",
              "      <td>Data:490F=1GB,7d</td>\n",
              "      <td>1.609438</td>\n",
              "    </tr>\n",
              "    <tr>\n",
              "      <th>1365999</th>\n",
              "      <td>unknown</td>\n",
              "      <td>K &gt; 24 month</td>\n",
              "      <td>2.154085</td>\n",
              "      <td>0.891998</td>\n",
              "      <td>2.152924</td>\n",
              "      <td>2.142416</td>\n",
              "      <td>0.970779</td>\n",
              "      <td>NaN</td>\n",
              "      <td>0.0</td>\n",
              "      <td>1.0</td>\n",
              "      <td>1.0</td>\n",
              "      <td>3</td>\n",
              "      <td>NaN</td>\n",
              "      <td>0.802002</td>\n",
              "    </tr>\n",
              "    <tr>\n",
              "      <th>1257533</th>\n",
              "      <td>LOUGA</td>\n",
              "      <td>K &gt; 24 month</td>\n",
              "      <td>9.908475</td>\n",
              "      <td>3.433987</td>\n",
              "      <td>9.878221</td>\n",
              "      <td>8.779711</td>\n",
              "      <td>3.496508</td>\n",
              "      <td>2046.0</td>\n",
              "      <td>993.0</td>\n",
              "      <td>580.0</td>\n",
              "      <td>124.0</td>\n",
              "      <td>61</td>\n",
              "      <td>Jokko_Daily</td>\n",
              "      <td>3.044522</td>\n",
              "    </tr>\n",
              "    <tr>\n",
              "      <th>...</th>\n",
              "      <td>...</td>\n",
              "      <td>...</td>\n",
              "      <td>...</td>\n",
              "      <td>...</td>\n",
              "      <td>...</td>\n",
              "      <td>...</td>\n",
              "      <td>...</td>\n",
              "      <td>...</td>\n",
              "      <td>...</td>\n",
              "      <td>...</td>\n",
              "      <td>...</td>\n",
              "      <td>...</td>\n",
              "      <td>...</td>\n",
              "      <td>...</td>\n",
              "    </tr>\n",
              "    <tr>\n",
              "      <th>110351</th>\n",
              "      <td>TAMBACOUNDA</td>\n",
              "      <td>K &gt; 24 month</td>\n",
              "      <td>2.154085</td>\n",
              "      <td>0.891998</td>\n",
              "      <td>6.274762</td>\n",
              "      <td>5.181784</td>\n",
              "      <td>0.693147</td>\n",
              "      <td>NaN</td>\n",
              "      <td>0.0</td>\n",
              "      <td>6.0</td>\n",
              "      <td>1.0</td>\n",
              "      <td>2</td>\n",
              "      <td>All-net 500F=2000F;5d</td>\n",
              "      <td>0.000000</td>\n",
              "    </tr>\n",
              "    <tr>\n",
              "      <th>521280</th>\n",
              "      <td>unknown</td>\n",
              "      <td>K &gt; 24 month</td>\n",
              "      <td>5.298317</td>\n",
              "      <td>0.000000</td>\n",
              "      <td>5.288267</td>\n",
              "      <td>4.204693</td>\n",
              "      <td>0.000000</td>\n",
              "      <td>1.0</td>\n",
              "      <td>2.0</td>\n",
              "      <td>1.0</td>\n",
              "      <td>1.0</td>\n",
              "      <td>10</td>\n",
              "      <td>NaN</td>\n",
              "      <td>0.802002</td>\n",
              "    </tr>\n",
              "    <tr>\n",
              "      <th>1093715</th>\n",
              "      <td>unknown</td>\n",
              "      <td>K &gt; 24 month</td>\n",
              "      <td>6.214608</td>\n",
              "      <td>0.000000</td>\n",
              "      <td>6.214608</td>\n",
              "      <td>5.123964</td>\n",
              "      <td>0.000000</td>\n",
              "      <td>0.0</td>\n",
              "      <td>4.0</td>\n",
              "      <td>20.0</td>\n",
              "      <td>0.0</td>\n",
              "      <td>16</td>\n",
              "      <td>MIXT:500F= 2500F on net _2500F off net;2d</td>\n",
              "      <td>0.000000</td>\n",
              "    </tr>\n",
              "    <tr>\n",
              "      <th>97033</th>\n",
              "      <td>unknown</td>\n",
              "      <td>K &gt; 24 month</td>\n",
              "      <td>2.154085</td>\n",
              "      <td>0.891998</td>\n",
              "      <td>2.995732</td>\n",
              "      <td>2.079442</td>\n",
              "      <td>0.000000</td>\n",
              "      <td>159.0</td>\n",
              "      <td>0.0</td>\n",
              "      <td>1.0</td>\n",
              "      <td>1.0</td>\n",
              "      <td>32</td>\n",
              "      <td>NaN</td>\n",
              "      <td>0.802002</td>\n",
              "    </tr>\n",
              "    <tr>\n",
              "      <th>1894300</th>\n",
              "      <td>unknown</td>\n",
              "      <td>K &gt; 24 month</td>\n",
              "      <td>2.154085</td>\n",
              "      <td>0.891998</td>\n",
              "      <td>2.152924</td>\n",
              "      <td>2.142416</td>\n",
              "      <td>0.970779</td>\n",
              "      <td>NaN</td>\n",
              "      <td>0.0</td>\n",
              "      <td>1.0</td>\n",
              "      <td>1.0</td>\n",
              "      <td>7</td>\n",
              "      <td>NaN</td>\n",
              "      <td>0.802002</td>\n",
              "    </tr>\n",
              "  </tbody>\n",
              "</table>\n",
              "<p>1443212 rows × 14 columns</p>\n",
              "</div>"
            ],
            "text/plain": [
              "              REGION  ... FREQ_TOP_PACK\n",
              "329063         DAKAR  ...      1.609438\n",
              "1434938      unknown  ...      0.802002\n",
              "2055271     DIOURBEL  ...      1.609438\n",
              "1365999      unknown  ...      0.802002\n",
              "1257533        LOUGA  ...      3.044522\n",
              "...              ...  ...           ...\n",
              "110351   TAMBACOUNDA  ...      0.000000\n",
              "521280       unknown  ...      0.802002\n",
              "1093715      unknown  ...      0.000000\n",
              "97033        unknown  ...      0.802002\n",
              "1894300      unknown  ...      0.802002\n",
              "\n",
              "[1443212 rows x 14 columns]"
            ]
          },
          "metadata": {
            "tags": []
          },
          "execution_count": 50
        }
      ]
    },
    {
      "cell_type": "code",
      "metadata": {
        "id": "OWF92rKlieNP"
      },
      "source": [
        ""
      ],
      "execution_count": null,
      "outputs": []
    },
    {
      "cell_type": "code",
      "metadata": {
        "id": "DNgOtOkShfpq"
      },
      "source": [
        "folds = 3\n",
        "param_comb = 5\n",
        "\n",
        "skf = StratifiedKFold(n_splits=folds, shuffle = True, random_state = 1001)\n",
        "\n",
        "random_search = RandomizedSearchCV(xgb, param_distributions=params, n_iter=param_comb, scoring='roc_auc', n_jobs=4, cv=skf.split(X_train,y_train), verbose=3, random_state=1001 )\n",
        "\n",
        "# Here we go\n",
        "start_time = timer(None) # timing starts from this point for \"start_time\" variable\n",
        "random_search.fit(X_train,y_train)\n",
        "timer(start_time)"
      ],
      "execution_count": null,
      "outputs": []
    },
    {
      "cell_type": "markdown",
      "metadata": {
        "id": "qKM1LAd6fhws"
      },
      "source": [
        "Let's check out the full pipeline."
      ]
    },
    {
      "cell_type": "code",
      "metadata": {
        "id": "K_at10mrfhwt"
      },
      "source": [
        "# from sklearn import set_config\n",
        "\n",
        "# full_pipeline"
      ],
      "execution_count": null,
      "outputs": []
    },
    {
      "cell_type": "markdown",
      "metadata": {
        "id": "V1V_sI0qfhwu"
      },
      "source": [
        "### Training and Evaluation"
      ]
    },
    {
      "cell_type": "markdown",
      "metadata": {
        "id": "Ftk4eVIjfhwu"
      },
      "source": [
        "Let's split the data into a training and evaluation set. We'll use a third of our data for evaluation. \n",
        "\n",
        "Recall that we have an imbalanced dataset, so we'll use the stratify argument to enforce even splits."
      ]
    },
    {
      "cell_type": "code",
      "metadata": {
        "id": "Y_9TjTQrfhwv"
      },
      "source": [
        "X_train, X_eval, y_train, y_eval = train_test_split(\n",
        "    train.drop(['CHURN'], axis = 1),\n",
        "    train.CHURN,\n",
        "    test_size=0.33,\n",
        "    shuffle=True,\n",
        "    stratify=train.CHURN,\n",
        "    random_state=RANDOM_SEED\n",
        ")"
      ],
      "execution_count": null,
      "outputs": []
    },
    {
      "cell_type": "code",
      "metadata": {
        "scrolled": true,
        "id": "r1iOUJUafhww",
        "colab": {
          "base_uri": "https://localhost:8080/",
          "height": 51
        },
        "outputId": "c0613a8d-91f4-480a-8aa5-6c15fd5f08ae"
      },
      "source": [
        "%%time\n",
        "\n",
        "# Train model\n",
        "full_pipeline_XGB.fit(X_train, y_train)\n",
        "\n",
        "# Predict on evaluation set\n",
        "# This competition wants probabilities, not labels\n",
        "preds = full_pipeline_XGB.predict_proba(X_eval)\n",
        "preds"
      ],
      "execution_count": null,
      "outputs": [
        {
          "output_type": "stream",
          "text": [
            "CPU times: user 54.1 s, sys: 609 ms, total: 54.7 s\n",
            "Wall time: 54.8 s\n"
          ],
          "name": "stdout"
        }
      ]
    },
    {
      "cell_type": "code",
      "metadata": {
        "id": "vVdrU-_ufhwy",
        "outputId": "56faa713-38cc-4b38-9bf8-09354a6ef493"
      },
      "source": [
        "from sklearn.metrics import log_loss\n",
        "log_loss(y_eval, preds[:, 1])"
      ],
      "execution_count": null,
      "outputs": [
        {
          "output_type": "execute_result",
          "data": {
            "text/plain": [
              "0.25268017746219157"
            ]
          },
          "metadata": {
            "tags": []
          },
          "execution_count": 85
        }
      ]
    },
    {
      "cell_type": "code",
      "metadata": {
        "id": "XVC2Bzrsfhw0",
        "outputId": "ddf66c01-39d6-4322-f0f0-22a1c22eec05"
      },
      "source": [
        "%%time\n",
        "\n",
        "# Train model\n",
        "full_pipeline.fit(X_train, y_train)\n",
        "\n",
        "# Predict on evaluation set\n",
        "# This competition wants probabilities, not labels\n",
        "preds_xgb = full_pipeline.predict_proba(X_eval)\n",
        "preds_xgb"
      ],
      "execution_count": null,
      "outputs": [
        {
          "output_type": "stream",
          "text": [
            "CPU times: user 2min 6s, sys: 1.36 s, total: 2min 7s\n",
            "Wall time: 2min 7s\n"
          ],
          "name": "stdout"
        },
        {
          "output_type": "execute_result",
          "data": {
            "text/plain": [
              "array([[9.9854136e-01, 1.4586513e-03],\n",
              "       [6.8931776e-01, 3.1068224e-01],\n",
              "       [9.9571234e-01, 4.2876806e-03],\n",
              "       ...,\n",
              "       [9.9954748e-01, 4.5254527e-04],\n",
              "       [3.1955904e-01, 6.8044096e-01],\n",
              "       [8.4488636e-01, 1.5511365e-01]], dtype=float32)"
            ]
          },
          "metadata": {
            "tags": []
          },
          "execution_count": 64
        }
      ]
    },
    {
      "cell_type": "code",
      "metadata": {
        "id": "Lo5wJ0yQfhw2"
      },
      "source": [
        "new_preds = 1/2*(preds[:, 1]+preds_xgb[:, 1])"
      ],
      "execution_count": null,
      "outputs": []
    },
    {
      "cell_type": "code",
      "metadata": {
        "id": "hXDrOYTpfhw3",
        "outputId": "65bd940c-a76b-4dcd-8c8d-82c1c3425802"
      },
      "source": [
        "log_loss(y_eval, preds_xgb[:, 1])"
      ],
      "execution_count": null,
      "outputs": [
        {
          "output_type": "execute_result",
          "data": {
            "text/plain": [
              "0.25317007245522427"
            ]
          },
          "metadata": {
            "tags": []
          },
          "execution_count": 81
        }
      ]
    },
    {
      "cell_type": "code",
      "metadata": {
        "id": "dztBjbMsfhw5",
        "outputId": "33f0ba65-f332-4984-94f0-3d1cf3d00e13"
      },
      "source": [
        ""
      ],
      "execution_count": null,
      "outputs": [
        {
          "output_type": "execute_result",
          "data": {
            "text/plain": [
              "0.2524448740666024"
            ]
          },
          "metadata": {
            "tags": []
          },
          "execution_count": 79
        }
      ]
    },
    {
      "cell_type": "code",
      "metadata": {
        "id": "MnYPK_E6fhw9",
        "outputId": "9d9d0925-b9cd-41ee-9986-60d9b6ad6080"
      },
      "source": [
        "log_loss(y_eval, new_preds)"
      ],
      "execution_count": null,
      "outputs": [
        {
          "output_type": "execute_result",
          "data": {
            "text/plain": [
              "0.25262555508815765"
            ]
          },
          "metadata": {
            "tags": []
          },
          "execution_count": 82
        }
      ]
    },
    {
      "cell_type": "code",
      "metadata": {
        "id": "zWMWTpGCfhxA"
      },
      "source": [
        "from sklearn.metrics import classification_report\n",
        "# print(classification_report(np.array(y_eval), preds[:, 1])) "
      ],
      "execution_count": null,
      "outputs": []
    },
    {
      "cell_type": "markdown",
      "metadata": {
        "id": "FPJnmT8bfhxB"
      },
      "source": [
        "The competition uses the [Log loss](https://scikit-learn.org/stable/modules/generated/sklearn.metrics.log_loss.html) as the evaluation metric, so let's check how our model did on the evaluation set."
      ]
    },
    {
      "cell_type": "markdown",
      "metadata": {
        "id": "mUCKLBuXfhxC"
      },
      "source": [
        "The estimator spits out the probabilities for each class(0 and 1). We are interested in the second column, that is the probability of churn,so let's grab it."
      ]
    },
    {
      "cell_type": "code",
      "metadata": {
        "id": "k577S2SYfhxC"
      },
      "source": [
        "# import scipy as sp\n",
        "# import scikitplot as skplt"
      ],
      "execution_count": null,
      "outputs": []
    },
    {
      "cell_type": "code",
      "metadata": {
        "id": "g4WRGhOVfhxE"
      },
      "source": [
        "# print('Confusion matrix:\\n', skplt.metrics.plot_confusion_matrix(y_eval, preds[:, 1].round()))"
      ],
      "execution_count": null,
      "outputs": []
    },
    {
      "cell_type": "markdown",
      "metadata": {
        "id": "2KBMsgxWfhxG"
      },
      "source": [
        "### Retrain Model on Full Dataset"
      ]
    },
    {
      "cell_type": "markdown",
      "metadata": {
        "id": "A9-LM8lmfhxG"
      },
      "source": [
        "Now that we have an idea of how the model performs, let's retrain on the full training set"
      ]
    },
    {
      "cell_type": "code",
      "metadata": {
        "id": "7egR1bvTfhxG"
      },
      "source": [
        "# %%time \n",
        "\n",
        "# full_pipeline.fit(train.drop(['user_id', 'CHURN'], axis = 1), train.CHURN)\n",
        "\n",
        "# None   # So we don't print out the whole pipeline representation"
      ],
      "execution_count": null,
      "outputs": []
    },
    {
      "cell_type": "markdown",
      "metadata": {
        "id": "UTEaCLm7fhxI"
      },
      "source": [
        "# GENERATING THE PREDICTIONS FOR THE TEST SET"
      ]
    },
    {
      "cell_type": "markdown",
      "metadata": {
        "id": "mZlbSbn-fhxI"
      },
      "source": [
        "Let's make predictions on the test set! Remember, for this competition, we want the probabilities, not the binary label predictions. So just like we did earlier, we'll use the .predict_proba method to get those."
      ]
    },
    {
      "cell_type": "code",
      "metadata": {
        "id": "IaNSBCWCfhxJ"
      },
      "source": [
        "\n",
        "# feat_operator = test[['ON_NET', 'ORANGE', 'TIGO']]\n",
        "# feat_operator = feat_operator.apply(lambda x:x.fillna(x.value_counts().index[0]))\n",
        "# test[['ON_NET', 'ORANGE', 'TIGO']] = feat_operator\n",
        "# #------------------------------------------\n",
        "# columns_means = ['MONTANT', 'FREQUENCE_RECH', 'FREQUENCE', 'REVENUE', 'FREQ_TOP_PACK']\n",
        "\n",
        "# for column_mean in columns_means:\n",
        "#     mean_rev = round(np.log(test[[column_mean]].mean()[0]), 2)\n",
        "#     test[column_mean] = np.log(test[[column_mean]].fillna(mean_rev))\n",
        "# #-------------------------------------\n",
        "# mean_rev = round(np.log(1+test[['ARPU_SEGMENT']].mean()[0]), 2)\n",
        "# test['ARPU_SEGMENT'] = np.log(1+test[['ARPU_SEGMENT']].fillna(mean_rev))\n",
        "\n",
        "# test['REGION'] = test[['REGION']].fillna('unknown')\n"
      ],
      "execution_count": null,
      "outputs": []
    },
    {
      "cell_type": "code",
      "metadata": {
        "id": "XZpe2eXhfhxK",
        "outputId": "376c631f-1c18-4c48-90b6-4c24450077bc"
      },
      "source": [
        "test_probas_xgb = full_pipeline_XGB.predict_proba(test)\n",
        "test_probas_xgb"
      ],
      "execution_count": null,
      "outputs": [
        {
          "output_type": "execute_result",
          "data": {
            "text/plain": [
              "array([[0.99564266, 0.00435735],\n",
              "       [0.85505587, 0.14494413],\n",
              "       [0.99579006, 0.00420995],\n",
              "       ...,\n",
              "       [0.7646134 , 0.23538661],\n",
              "       [0.8411451 , 0.1588549 ],\n",
              "       [0.9906861 , 0.00931386]], dtype=float32)"
            ]
          },
          "metadata": {
            "tags": []
          },
          "execution_count": 86
        }
      ]
    },
    {
      "cell_type": "markdown",
      "metadata": {
        "id": "mEDJmrJ0fhxL"
      },
      "source": [
        "Let's use the submission file to submit the predicted values."
      ]
    },
    {
      "cell_type": "code",
      "metadata": {
        "id": "SXa-F9iXfhxL",
        "outputId": "bb91fbdf-bd34-49f1-c269-019e8be5ef10"
      },
      "source": [
        "submission_df = pd.read_csv('UmojaHack/SampleSubmission.csv')\n",
        "submission_df.head()"
      ],
      "execution_count": null,
      "outputs": [
        {
          "output_type": "execute_result",
          "data": {
            "text/html": [
              "<div>\n",
              "<style scoped>\n",
              "    .dataframe tbody tr th:only-of-type {\n",
              "        vertical-align: middle;\n",
              "    }\n",
              "\n",
              "    .dataframe tbody tr th {\n",
              "        vertical-align: top;\n",
              "    }\n",
              "\n",
              "    .dataframe thead th {\n",
              "        text-align: right;\n",
              "    }\n",
              "</style>\n",
              "<table border=\"1\" class=\"dataframe\">\n",
              "  <thead>\n",
              "    <tr style=\"text-align: right;\">\n",
              "      <th></th>\n",
              "      <th>user_id</th>\n",
              "      <th>CHURN</th>\n",
              "    </tr>\n",
              "  </thead>\n",
              "  <tbody>\n",
              "    <tr>\n",
              "      <td>0</td>\n",
              "      <td>00001dbe00e56fc4b1c1b65dda63de2a5ece55f9</td>\n",
              "      <td>0</td>\n",
              "    </tr>\n",
              "    <tr>\n",
              "      <td>1</td>\n",
              "      <td>000055d41c8a62052dd426592e8a4a3342bf565d</td>\n",
              "      <td>0</td>\n",
              "    </tr>\n",
              "    <tr>\n",
              "      <td>2</td>\n",
              "      <td>000081dd3245e6869a4a9c574c7050e7bb84c2c8</td>\n",
              "      <td>0</td>\n",
              "    </tr>\n",
              "    <tr>\n",
              "      <td>3</td>\n",
              "      <td>0000b76d2145d9445d9ff6b65c9ebc4196c89337</td>\n",
              "      <td>0</td>\n",
              "    </tr>\n",
              "    <tr>\n",
              "      <td>4</td>\n",
              "      <td>0000bae5480628cf8fe51ad84bcb39772fc79224</td>\n",
              "      <td>0</td>\n",
              "    </tr>\n",
              "  </tbody>\n",
              "</table>\n",
              "</div>"
            ],
            "text/plain": [
              "                                    user_id  CHURN\n",
              "0  00001dbe00e56fc4b1c1b65dda63de2a5ece55f9      0\n",
              "1  000055d41c8a62052dd426592e8a4a3342bf565d      0\n",
              "2  000081dd3245e6869a4a9c574c7050e7bb84c2c8      0\n",
              "3  0000b76d2145d9445d9ff6b65c9ebc4196c89337      0\n",
              "4  0000bae5480628cf8fe51ad84bcb39772fc79224      0"
            ]
          },
          "metadata": {
            "tags": []
          },
          "execution_count": 87
        }
      ]
    },
    {
      "cell_type": "markdown",
      "metadata": {
        "id": "cdV20OaPfhxN"
      },
      "source": [
        "We want to replace those 0s with our predictions. But first, we need to make sure that the rows of the submission file are in the same order as the test file. "
      ]
    },
    {
      "cell_type": "code",
      "metadata": {
        "id": "vLIhR2UXfhxO"
      },
      "source": [
        "# Make sure we have the rows in the same order\n",
        "np.testing.assert_array_equal(test.index.values, \n",
        "                              submission_df.index.values)"
      ],
      "execution_count": null,
      "outputs": []
    },
    {
      "cell_type": "markdown",
      "metadata": {
        "id": "z6Ms0uTofhxQ"
      },
      "source": [
        "Nothing happended, so we're good. We can safely can drop in the estimated values in the 'CHURN' column."
      ]
    },
    {
      "cell_type": "code",
      "metadata": {
        "id": "jRlt9GDjfhxQ",
        "outputId": "9c6771a3-02c0-4782-8bf0-0d81d4817b84"
      },
      "source": [
        "# Save predictions to submission data frame\n",
        "submission_df[\"CHURN\"] = test_probas_xgb[:, 1]\n",
        "\n",
        "submission_df.head()"
      ],
      "execution_count": null,
      "outputs": [
        {
          "output_type": "execute_result",
          "data": {
            "text/html": [
              "<div>\n",
              "<style scoped>\n",
              "    .dataframe tbody tr th:only-of-type {\n",
              "        vertical-align: middle;\n",
              "    }\n",
              "\n",
              "    .dataframe tbody tr th {\n",
              "        vertical-align: top;\n",
              "    }\n",
              "\n",
              "    .dataframe thead th {\n",
              "        text-align: right;\n",
              "    }\n",
              "</style>\n",
              "<table border=\"1\" class=\"dataframe\">\n",
              "  <thead>\n",
              "    <tr style=\"text-align: right;\">\n",
              "      <th></th>\n",
              "      <th>user_id</th>\n",
              "      <th>CHURN</th>\n",
              "    </tr>\n",
              "  </thead>\n",
              "  <tbody>\n",
              "    <tr>\n",
              "      <td>0</td>\n",
              "      <td>00001dbe00e56fc4b1c1b65dda63de2a5ece55f9</td>\n",
              "      <td>0.004357</td>\n",
              "    </tr>\n",
              "    <tr>\n",
              "      <td>1</td>\n",
              "      <td>000055d41c8a62052dd426592e8a4a3342bf565d</td>\n",
              "      <td>0.144944</td>\n",
              "    </tr>\n",
              "    <tr>\n",
              "      <td>2</td>\n",
              "      <td>000081dd3245e6869a4a9c574c7050e7bb84c2c8</td>\n",
              "      <td>0.004210</td>\n",
              "    </tr>\n",
              "    <tr>\n",
              "      <td>3</td>\n",
              "      <td>0000b76d2145d9445d9ff6b65c9ebc4196c89337</td>\n",
              "      <td>0.367757</td>\n",
              "    </tr>\n",
              "    <tr>\n",
              "      <td>4</td>\n",
              "      <td>0000bae5480628cf8fe51ad84bcb39772fc79224</td>\n",
              "      <td>0.355204</td>\n",
              "    </tr>\n",
              "  </tbody>\n",
              "</table>\n",
              "</div>"
            ],
            "text/plain": [
              "                                    user_id     CHURN\n",
              "0  00001dbe00e56fc4b1c1b65dda63de2a5ece55f9  0.004357\n",
              "1  000055d41c8a62052dd426592e8a4a3342bf565d  0.144944\n",
              "2  000081dd3245e6869a4a9c574c7050e7bb84c2c8  0.004210\n",
              "3  0000b76d2145d9445d9ff6b65c9ebc4196c89337  0.367757\n",
              "4  0000bae5480628cf8fe51ad84bcb39772fc79224  0.355204"
            ]
          },
          "metadata": {
            "tags": []
          },
          "execution_count": 89
        }
      ]
    },
    {
      "cell_type": "code",
      "metadata": {
        "id": "2gEHuz1nfhxS"
      },
      "source": [
        "submission_df.to_csv('my_submission_2.csv', index=False)"
      ],
      "execution_count": null,
      "outputs": []
    },
    {
      "cell_type": "code",
      "metadata": {
        "id": "l3GjY2qgfhxU",
        "outputId": "be21740f-3b25-4475-a6b5-7664204ab74b"
      },
      "source": [
        "!head my_submission.csv"
      ],
      "execution_count": null,
      "outputs": [
        {
          "output_type": "stream",
          "text": [
            "'head' is not recognized as an internal or external command,\n",
            "operable program or batch file.\n"
          ],
          "name": "stderr"
        }
      ]
    },
    {
      "cell_type": "markdown",
      "metadata": {
        "id": "0sevgzD0fhxV"
      },
      "source": [
        "Now, let's on head on over to [Zindi](https://zindi.africa/hackathons/umojahack-rwanda-expresso-churn-prediction-challenge) and make our submission."
      ]
    },
    {
      "cell_type": "markdown",
      "metadata": {
        "id": "nopawOqlfhxW"
      },
      "source": [
        "# Things to try"
      ]
    },
    {
      "cell_type": "markdown",
      "metadata": {
        "id": "JOHSojBdfhxW"
      },
      "source": [
        "* [GridSearchCV](https://scikit-learn.org/stable/modules/generated/sklearn.model_selection.GridSearchCV.html) to find optimal hyper parameters. If you do chose to use gridsearch, I suggest splitting the dataset into small portions since the it is so large\n",
        "* Mean target encoding\n",
        "* [Principal component analysis](https://scikit-learn.org/stable/modules/generated/sklearn.decomposition.PCA.html) (PCA)\n",
        "* Removing outliers\n",
        "* Try different algorithms"
      ]
    }
  ]
}